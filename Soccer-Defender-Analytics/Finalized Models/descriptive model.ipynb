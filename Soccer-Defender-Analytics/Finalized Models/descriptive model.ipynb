{
 "cells": [
  {
   "cell_type": "code",
   "execution_count": 3,
   "id": "2b2cae82-94fa-49a5-99ef-723006653268",
   "metadata": {},
   "outputs": [],
   "source": [
    "import pandas as pd\n",
    "import numpy as np\n",
    "import optuna\n",
    "import xgboost as xgb\n",
    "from sklearn.metrics import r2_score, mean_absolute_error\n",
    "from sklearn.model_selection import train_test_split, cross_validate"
   ]
  },
  {
   "cell_type": "code",
   "execution_count": 4,
   "id": "095e926a-d035-4065-9e11-79fd7547b3a7",
   "metadata": {},
   "outputs": [],
   "source": [
    "def add_team_features(df):\n",
    "    start_year = 24\n",
    "\n",
    "    # Create an empty list to hold DataFrames\n",
    "    all_stats = []\n",
    "    \n",
    "    for i in range(3):\n",
    "        year = start_year - i\n",
    "        season_str = f\"20{year-1}-20{year}\"\n",
    "        url_df = f'https://fbref.com/en/comps/Big5/{season_str}/{season_str}-Big-5-European-Leagues-Stats'\n",
    "    \n",
    "        try:\n",
    "            # Read all tables from the page\n",
    "            tables = pd.read_html(url_df)\n",
    "    \n",
    "            # Usually the first table contains the overall squad stats\n",
    "            temp = tables[0][['Squad', 'xG', 'xGA']]\n",
    "            temp['Season'] = season_str\n",
    "    \n",
    "            # Append to the list\n",
    "            all_stats.append(temp)\n",
    "    \n",
    "            #print(f\"Fetched {season_str} successfully.\")\n",
    "        except Exception as e:\n",
    "            print(f\"Failed to fetch {season_str}: {e}\")\n",
    "    \n",
    "    # combine\n",
    "    stats = pd.concat(all_stats, ignore_index=True)\n",
    "    df = df.merge(stats, on=['Squad', 'Season'], how='left')\n",
    "    return df\n",
    "\n",
    "def setup(df):\n",
    "    df = df.dropna(subset=['Rating'])\n",
    "    \n",
    "    df['Defensive_Efficiency'] = (df['Tkl'] + df['Blocks'] + df['Int']) / df['90s']\n",
    "    df['Offensive_Contribution'] = (df['Att 3rd'] + df['Crs'] + df['Sh']) / df['90s']\n",
    "    df['Tactical_Contribution'] = df['TklW'] + (df['Tkl%'] * df['Tkl'])\n",
    "    df['Penalty_Risk'] = (df['CrdY'] + df['CrdR'] + df['PKcon']) / df['90s']\n",
    "    df['Defensive_Interaction'] = df['Tkl'] + df['Blocks'] + df['Int']\n",
    "    #df['Seasonal_Trend'] = df.groupby('Season')['Rating'].transform(lambda x: x.diff()).fillna(0)\n",
    "    df['Win_Ratio'] = df['Won'] / (df['Won'] + df['Lost'])\n",
    "    \n",
    "    # Initialize 'Adjusted Rating' as a copy of 'Rating' to prevent NaNs for non-defenders\n",
    "    df['Adjusted Rating'] = df['Rating']\n",
    "    \n",
    "    # Calculate mean and standard deviation for defenders only\n",
    "    mean_rating = df[df['Pos'] == 'DF']['Rating'].mean()\n",
    "    std_rating = df[df['Pos'] == 'DF']['Rating'].std()\n",
    "    \n",
    "    # Calculate z-scores for defenders only\n",
    "    z_ratings = (df[df['Pos'] == 'DF']['Rating'] - mean_rating) / std_rating\n",
    "    \n",
    "    # Increase variance by scaling z-scores (factor > 1)\n",
    "    scaling_factor = 1.3  # Adjust the factor based on how much you want to increase the variance\n",
    "    scaled_z_ratings = z_ratings * scaling_factor\n",
    "    \n",
    "    # Revert to the original scale with increased variance for defenders only\n",
    "    df.loc[df['Pos'] == 'DF', 'Adjusted Rating'] = mean_rating + scaled_z_ratings * std_rating\n",
    "\n",
    "    orig_df = df.copy()\n",
    "    \n",
    "    #df = df[df['Pos'].str.contains(\"DF\", na=False)]\n",
    "    df = df.drop(columns=['Player Name'], errors=\"ignore\")  # Remove identifier column\n",
    "    \n",
    "    df = df.drop(columns=['Squad'])\n",
    "    \n",
    "    # One-hot encode categorical columns\n",
    "    categorical_cols = ['League', 'Season', 'Pos']\n",
    "    df = pd.get_dummies(df, columns=categorical_cols)\n",
    "    \n",
    "    # Fill missing values\n",
    "    df = df.fillna(df.median())\n",
    "    \n",
    "    #df = pd.get_dummies(df, columns=['Pos'], drop_first=True)\n",
    "    \n",
    "    # Drop Season columns if needed\n",
    "    #df = df.drop(df.filter(like=\"Season\").columns, axis=1)\n",
    "    #df = df.drop(df.filter(like=\"Squad\").columns, axis=1)\n",
    "    #df = df.drop(df.filter(like=\"League\").columns, axis=1)\n",
    "    \n",
    "    # Split data into features (X) and target (y)\n",
    "    return df, orig_df, mean_rating, std_rating\n",
    "\n",
    "# Define Optuna objective function\n",
    "def objective(trial):\n",
    "    params = {\n",
    "        'n_estimators': trial.suggest_int('n_estimators', 100, 1000, step=100),\n",
    "        'max_depth': trial.suggest_int('max_depth', 3, 10),\n",
    "        'learning_rate': trial.suggest_float('learning_rate', 0.01, 0.2, log=True),\n",
    "        'subsample': trial.suggest_float('subsample', 0.5, 1.0),\n",
    "        'colsample_bytree': trial.suggest_float('colsample_bytree', 0.5, 1.0),\n",
    "        'reg_alpha': trial.suggest_float('reg_alpha', 1e-3, 10.0, log=True),\n",
    "        'reg_lambda': trial.suggest_float('reg_lambda', 1e-3, 10.0, log=True),\n",
    "        'min_child_weight': trial.suggest_int('min_child_weight', 1, 10)\n",
    "    }\n",
    "\n",
    "    # Train model\n",
    "    model = xgb.XGBRegressor(**params, random_state=42)\n",
    "    model.fit(X_train, y_train)\n",
    "\n",
    "    # Validate performance\n",
    "    y_pred = model.predict(X_val)\n",
    "    return r2_score(y_val, y_pred)\n",
    "\n",
    "# Run Optuna optimization\n",
    "def run_study(X_train, y_train, X_test, y_test, num_trials = 20):\n",
    "    study = optuna.create_study(direction='maximize')\n",
    "    study.optimize(objective, n_trials=num_trials)\n",
    "    \n",
    "    # Print best parameters\n",
    "    best_params = study.best_params\n",
    "    print(\"Best Hyperparameters:\", best_params)\n",
    "    \n",
    "    # Train final model with best parameters\n",
    "    best_model = xgb.XGBRegressor(**best_params, random_state=42)\n",
    "    best_model.fit(X_train, y_train)\n",
    "    \n",
    "    # Evaluate performance on test set\n",
    "    y_pred_test = best_model.predict(X_test)\n",
    "    final_r2 = r2_score(y_test, y_pred_test)\n",
    "    final_mae = mean_absolute_error(y_test, y_pred_test)\n",
    "    \n",
    "    print(f\"Final R² Score: {final_r2:.4f}\")\n",
    "    print(f\"Final MAE: {final_mae:.4f}\")\n",
    "\n",
    "    return best_params\n",
    "\n",
    "# Cross Validation\n",
    "def cross_val(best_params):\n",
    "    # model with best hyperparameters, found from Optuna\n",
    "    best_model = xgb.XGBRegressor(**best_params, random_state=42)\n",
    "    \n",
    "    # cross-validation (function imported from sklearn.model_selection)\n",
    "    cv_results = cross_validate(best_model, X_test, y_test, cv=5, scoring=('r2', 'neg_mean_absolute_error'))\n",
    "    \n",
    "    # Print cross-validation results\n",
    "    print(\"Cross-validation R² scores:\", cv_results['test_r2'])\n",
    "    print(\"Cross-validation MAE scores:\", -cv_results['test_neg_mean_absolute_error'])  # MAE is negative due to how scoring works\n",
    "    \n",
    "    # Calculate the average R² score and MAE across folds\n",
    "    avg_r2 = cv_results['test_r2'].mean()\n",
    "    avg_mae = -cv_results['test_neg_mean_absolute_error'].mean()  # Negative to positive conversion for MAE\n",
    "    \n",
    "    print(f\"Average Cross-Validation R² Score: {avg_r2:.4f}\")\n",
    "    print(f\"Average Cross-Validation MAE: {avg_mae:.4f}\")\n",
    "\n",
    "def undo_adjusted_rating(y_adjusted, mean_rating, std_rating, scaling_factor=1.3):\n",
    "    unscaled_z = ((y_adjusted - mean_rating) / std_rating) / scaling_factor\n",
    "    return mean_rating + unscaled_z * std_rating\n",
    "\n"
   ]
  },
  {
   "cell_type": "code",
   "execution_count": 9,
   "id": "7d3e4f35-7035-491d-a98a-ed1902c2a301",
   "metadata": {},
   "outputs": [
    {
     "name": "stderr",
     "output_type": "stream",
     "text": [
      "C:\\Users\\qrJos\\AppData\\Local\\Temp\\ipykernel_62140\\2925366057.py:18: SettingWithCopyWarning: \n",
      "A value is trying to be set on a copy of a slice from a DataFrame.\n",
      "Try using .loc[row_indexer,col_indexer] = value instead\n",
      "\n",
      "See the caveats in the documentation: https://pandas.pydata.org/pandas-docs/stable/user_guide/indexing.html#returning-a-view-versus-a-copy\n",
      "  temp['Season'] = season_str\n",
      "C:\\Users\\qrJos\\AppData\\Local\\Temp\\ipykernel_62140\\2925366057.py:18: SettingWithCopyWarning: \n",
      "A value is trying to be set on a copy of a slice from a DataFrame.\n",
      "Try using .loc[row_indexer,col_indexer] = value instead\n",
      "\n",
      "See the caveats in the documentation: https://pandas.pydata.org/pandas-docs/stable/user_guide/indexing.html#returning-a-view-versus-a-copy\n",
      "  temp['Season'] = season_str\n",
      "C:\\Users\\qrJos\\AppData\\Local\\Temp\\ipykernel_62140\\2925366057.py:18: SettingWithCopyWarning: \n",
      "A value is trying to be set on a copy of a slice from a DataFrame.\n",
      "Try using .loc[row_indexer,col_indexer] = value instead\n",
      "\n",
      "See the caveats in the documentation: https://pandas.pydata.org/pandas-docs/stable/user_guide/indexing.html#returning-a-view-versus-a-copy\n",
      "  temp['Season'] = season_str\n",
      "C:\\Users\\qrJos\\AppData\\Local\\Temp\\ipykernel_62140\\2925366057.py:35: SettingWithCopyWarning: \n",
      "A value is trying to be set on a copy of a slice from a DataFrame.\n",
      "Try using .loc[row_indexer,col_indexer] = value instead\n",
      "\n",
      "See the caveats in the documentation: https://pandas.pydata.org/pandas-docs/stable/user_guide/indexing.html#returning-a-view-versus-a-copy\n",
      "  df['Defensive_Efficiency'] = (df['Tkl'] + df['Blocks'] + df['Int']) / df['90s']\n",
      "C:\\Users\\qrJos\\AppData\\Local\\Temp\\ipykernel_62140\\2925366057.py:36: SettingWithCopyWarning: \n",
      "A value is trying to be set on a copy of a slice from a DataFrame.\n",
      "Try using .loc[row_indexer,col_indexer] = value instead\n",
      "\n",
      "See the caveats in the documentation: https://pandas.pydata.org/pandas-docs/stable/user_guide/indexing.html#returning-a-view-versus-a-copy\n",
      "  df['Offensive_Contribution'] = (df['Att 3rd'] + df['Crs'] + df['Sh']) / df['90s']\n",
      "C:\\Users\\qrJos\\AppData\\Local\\Temp\\ipykernel_62140\\2925366057.py:37: SettingWithCopyWarning: \n",
      "A value is trying to be set on a copy of a slice from a DataFrame.\n",
      "Try using .loc[row_indexer,col_indexer] = value instead\n",
      "\n",
      "See the caveats in the documentation: https://pandas.pydata.org/pandas-docs/stable/user_guide/indexing.html#returning-a-view-versus-a-copy\n",
      "  df['Tactical_Contribution'] = df['TklW'] + (df['Tkl%'] * df['Tkl'])\n",
      "C:\\Users\\qrJos\\AppData\\Local\\Temp\\ipykernel_62140\\2925366057.py:38: SettingWithCopyWarning: \n",
      "A value is trying to be set on a copy of a slice from a DataFrame.\n",
      "Try using .loc[row_indexer,col_indexer] = value instead\n",
      "\n",
      "See the caveats in the documentation: https://pandas.pydata.org/pandas-docs/stable/user_guide/indexing.html#returning-a-view-versus-a-copy\n",
      "  df['Penalty_Risk'] = (df['CrdY'] + df['CrdR'] + df['PKcon']) / df['90s']\n",
      "C:\\Users\\qrJos\\AppData\\Local\\Temp\\ipykernel_62140\\2925366057.py:39: SettingWithCopyWarning: \n",
      "A value is trying to be set on a copy of a slice from a DataFrame.\n",
      "Try using .loc[row_indexer,col_indexer] = value instead\n",
      "\n",
      "See the caveats in the documentation: https://pandas.pydata.org/pandas-docs/stable/user_guide/indexing.html#returning-a-view-versus-a-copy\n",
      "  df['Defensive_Interaction'] = df['Tkl'] + df['Blocks'] + df['Int']\n",
      "C:\\Users\\qrJos\\AppData\\Local\\Temp\\ipykernel_62140\\2925366057.py:41: SettingWithCopyWarning: \n",
      "A value is trying to be set on a copy of a slice from a DataFrame.\n",
      "Try using .loc[row_indexer,col_indexer] = value instead\n",
      "\n",
      "See the caveats in the documentation: https://pandas.pydata.org/pandas-docs/stable/user_guide/indexing.html#returning-a-view-versus-a-copy\n",
      "  df['Win_Ratio'] = df['Won'] / (df['Won'] + df['Lost'])\n",
      "C:\\Users\\qrJos\\AppData\\Local\\Temp\\ipykernel_62140\\2925366057.py:44: SettingWithCopyWarning: \n",
      "A value is trying to be set on a copy of a slice from a DataFrame.\n",
      "Try using .loc[row_indexer,col_indexer] = value instead\n",
      "\n",
      "See the caveats in the documentation: https://pandas.pydata.org/pandas-docs/stable/user_guide/indexing.html#returning-a-view-versus-a-copy\n",
      "  df['Adjusted Rating'] = df['Rating']\n",
      "[I 2025-04-24 12:19:41,287] A new study created in memory with name: no-name-25771706-c582-4eb5-b45c-634c87a11241\n",
      "[I 2025-04-24 12:19:42,570] Trial 0 finished with value: 0.6662452245949749 and parameters: {'n_estimators': 300, 'max_depth': 10, 'learning_rate': 0.020620096380680936, 'subsample': 0.6253188212935656, 'colsample_bytree': 0.6609022859952493, 'reg_alpha': 3.317735636548151, 'reg_lambda': 0.0018265763553355111, 'min_child_weight': 3}. Best is trial 0 with value: 0.6662452245949749.\n",
      "[I 2025-04-24 12:19:42,903] Trial 1 finished with value: 0.7017573732910983 and parameters: {'n_estimators': 200, 'max_depth': 3, 'learning_rate': 0.09386663706070704, 'subsample': 0.7568555619138125, 'colsample_bytree': 0.9501471407120525, 'reg_alpha': 0.02650970488569251, 'reg_lambda': 4.016029392432814, 'min_child_weight': 6}. Best is trial 1 with value: 0.7017573732910983.\n",
      "[I 2025-04-24 12:19:44,123] Trial 2 finished with value: 0.6471570953128419 and parameters: {'n_estimators': 600, 'max_depth': 5, 'learning_rate': 0.1870101507707078, 'subsample': 0.5177108344029842, 'colsample_bytree': 0.7281105795154263, 'reg_alpha': 0.023923438319436476, 'reg_lambda': 0.008515267608843491, 'min_child_weight': 6}. Best is trial 1 with value: 0.7017573732910983.\n",
      "[I 2025-04-24 12:19:44,969] Trial 3 finished with value: 0.711569926897444 and parameters: {'n_estimators': 700, 'max_depth': 3, 'learning_rate': 0.0467650438872755, 'subsample': 0.930294324418478, 'colsample_bytree': 0.6607111878144629, 'reg_alpha': 0.11782509962371898, 'reg_lambda': 0.03859872014711693, 'min_child_weight': 2}. Best is trial 3 with value: 0.711569926897444.\n",
      "[I 2025-04-24 12:19:46,505] Trial 4 finished with value: 0.6967136492453891 and parameters: {'n_estimators': 400, 'max_depth': 7, 'learning_rate': 0.014142664027470706, 'subsample': 0.5437421560684887, 'colsample_bytree': 0.6415750918991001, 'reg_alpha': 0.06726298262242077, 'reg_lambda': 0.14108009566510932, 'min_child_weight': 4}. Best is trial 3 with value: 0.711569926897444.\n"
     ]
    },
    {
     "name": "stdout",
     "output_type": "stream",
     "text": [
      "Best Hyperparameters: {'n_estimators': 700, 'max_depth': 3, 'learning_rate': 0.0467650438872755, 'subsample': 0.930294324418478, 'colsample_bytree': 0.6607111878144629, 'reg_alpha': 0.11782509962371898, 'reg_lambda': 0.03859872014711693, 'min_child_weight': 2}\n",
      "Final R² Score: 0.7116\n",
      "Final MAE: 0.1198\n",
      "Cross-validation R² scores: [0.41064264 0.55444992 0.33075453 0.6489681  0.59353797]\n",
      "Cross-validation MAE scores: [0.16735539 0.1669944  0.14500931 0.13438866 0.13716339]\n",
      "Average Cross-Validation R² Score: 0.5077\n",
      "Average Cross-Validation MAE: 0.1502\n"
     ]
    }
   ],
   "source": [
    "df = pd.read_csv(\"finalized_players.csv\")\n",
    "df = add_team_features(df)\n",
    "df, orig_df, mean_def, std_def = setup(df)\n",
    "\n",
    "X = df.drop(columns=['Rating', 'Adjusted Rating'], errors=\"ignore\")\n",
    "y = df['Adjusted Rating']\n",
    "X_train, X_temp, y_train, y_temp = train_test_split(X, y, test_size=0.2, random_state=42)\n",
    "X_val, X_test, y_val, y_test = train_test_split(X_temp, y_temp, test_size=0.5, random_state=42)\n",
    "\n",
    "#print(df.columns)\n",
    "#df_2021_2023 = df[df['Season_2021-2022'] | df['Season_2022-2023']]\n",
    "#df_2024 = df[df['Season_2023-2024']]\n",
    "#X_train = df_2021_2023.drop(columns=['Rating', 'Adjusted Rating'], errors=\"ignore\")\n",
    "#y_train = df_2021_2023['Adjusted Rating']\n",
    "#X_test = df_2024.drop(columns=['Rating', 'Adjusted Rating'], errors=\"ignore\")\n",
    "#y_test = df_2024['Adjusted Rating']\n",
    "\n",
    "best_params = run_study(X_train, y_train, X_val, y_val, 5)\n",
    "\n",
    "cross_val(best_params)"
   ]
  },
  {
   "cell_type": "code",
   "execution_count": 17,
   "id": "a16cdaba-2c1f-47d9-b403-8f6ca47bd604",
   "metadata": {},
   "outputs": [],
   "source": [
    "model = xgb.XGBRegressor(**best_params, random_state=42)\n",
    "model.fit(X_train, y_train)\n",
    "y_test_pred = model.predict(X_test)\n",
    "\n",
    "#df['Predicted Adjusted Rating'] = y_pred\n",
    "#df = df[[col for col in df.columns if col != 'Rating'] + ['Rating']]\n",
    "#df = df[[col for col in df.columns if col != 'Adjusted Rating'] + ['Adjusted Rating']]"
   ]
  },
  {
   "cell_type": "code",
   "execution_count": 18,
   "id": "22bf7964-5ead-45ef-b450-c680a7da25c9",
   "metadata": {},
   "outputs": [
    {
     "data": {
      "text/plain": [
       "0.46478051887505634"
      ]
     },
     "execution_count": 18,
     "metadata": {},
     "output_type": "execute_result"
    }
   ],
   "source": [
    "from sklearn.metrics import r2_score\n",
    "r2 = r2_score(y_test, y_test_pred)\n",
    "r2"
   ]
  },
  {
   "cell_type": "code",
   "execution_count": 45,
   "id": "6d645e29-c59e-428f-b265-d009ab06ede7",
   "metadata": {},
   "outputs": [],
   "source": [
    "orig_2024 = orig_df[orig_df['Season'] == '2023-2024'].copy()"
   ]
  },
  {
   "cell_type": "code",
   "execution_count": 46,
   "id": "1478fb6d-2128-492d-9798-a5524750f716",
   "metadata": {},
   "outputs": [],
   "source": [
    "orig_2024['Predicted Rating'] = y_test_pred"
   ]
  },
  {
   "cell_type": "code",
   "execution_count": 48,
   "id": "3167015b-8d9b-4bf4-ad1a-f4ec6c4176ea",
   "metadata": {},
   "outputs": [],
   "source": [
    "orig_2024.to_csv('pred_2024_no_bias.csv')"
   ]
  },
  {
   "cell_type": "code",
   "execution_count": 31,
   "id": "d29e0807-4b82-4f42-88fe-fc8e5e03dff0",
   "metadata": {},
   "outputs": [
    {
     "data": {
      "text/plain": [
       "Index(['90s', 'Tkl', 'TklW', 'Def 3rd', 'Mid 3rd', 'Att 3rd', 'Chl-Tkl', 'Att',\n",
       "       'Tkl%', 'Chl-Lost', 'Blocks', 'Sh', 'Pass', 'Int', 'Tkl+Int', 'Clr',\n",
       "       'Err', 'CrdY', 'CrdR', '2CrdY', 'Fls', 'Off', 'Crs', 'PKcon', 'OG',\n",
       "       'Recov', 'Won', 'Lost', 'Won%', 'Defensive_Efficiency',\n",
       "       'Offensive_Contribution', 'Tactical_Contribution', 'Penalty_Risk',\n",
       "       'Defensive_Interaction', 'Win_Ratio', 'League_Bundesliga',\n",
       "       'League_La Liga', 'League_Ligue 1', 'League_Premier League',\n",
       "       'League_Serie A', 'Season_2021-2022', 'Season_2022-2023',\n",
       "       'Season_2023-2024', 'Pos_DF', 'Pos_DF,MF', 'Pos_MF', 'Pos_MF,DF',\n",
       "       'Predicted Adjusted Rating', 'Rating', 'Adjusted Rating'],\n",
       "      dtype='object')"
      ]
     },
     "execution_count": 31,
     "metadata": {},
     "output_type": "execute_result"
    }
   ],
   "source": [
    "df.columns"
   ]
  },
  {
   "cell_type": "code",
   "execution_count": 32,
   "id": "55d5813d-0ba1-4646-9a28-55e14eb6b2ad",
   "metadata": {},
   "outputs": [
    {
     "name": "stdout",
     "output_type": "stream",
     "text": [
      "{'objective': 'reg:squarederror', 'base_score': None, 'booster': None, 'callbacks': None, 'colsample_bylevel': None, 'colsample_bynode': None, 'colsample_bytree': 0.6524095821589513, 'device': None, 'early_stopping_rounds': None, 'enable_categorical': False, 'eval_metric': None, 'feature_types': None, 'gamma': None, 'grow_policy': None, 'importance_type': None, 'interaction_constraints': None, 'learning_rate': 0.0605487138909333, 'max_bin': None, 'max_cat_threshold': None, 'max_cat_to_onehot': None, 'max_delta_step': None, 'max_depth': 3, 'max_leaves': None, 'min_child_weight': 8, 'missing': nan, 'monotone_constraints': None, 'multi_strategy': None, 'n_estimators': None, 'n_jobs': None, 'num_parallel_tree': None, 'random_state': 42, 'reg_alpha': 0.6304827381123799, 'reg_lambda': 0.023966067481592194, 'sampling_method': None, 'scale_pos_weight': None, 'subsample': 0.6177495307302218, 'tree_method': None, 'validate_parameters': None, 'verbosity': None, 'seed': 42}\n"
     ]
    }
   ],
   "source": [
    "params = model.get_params()\n",
    "print(params)"
   ]
  },
  {
   "cell_type": "code",
   "execution_count": 33,
   "id": "37b9e495-7cb2-49bb-ad25-d068e1e79e84",
   "metadata": {},
   "outputs": [],
   "source": [
    "scaled_mask = df['Adjusted Rating'] != df['Rating']\n",
    "\n",
    "# Create new column: Predicted Actual Rating\n",
    "df['Predicted Rating'] = df['Predicted Adjusted Rating']  # Default for non-defenders\n",
    "\n",
    "# Undo scaling only for defenders\n",
    "df.loc[scaled_mask, 'Predicted Rating'] = undo_adjusted_rating(\n",
    "    df.loc[scaled_mask, 'Predicted Adjusted Rating'],\n",
    "    mean_rating=mean_def,\n",
    "    std_rating=std_def,\n",
    "    scaling_factor=1.3  # or whatever factor you used\n",
    ")\n",
    "\n",
    "# Undo One-Hot Encoding\n",
    "df['Player Name'] = orig_df['Player Name']\n",
    "pred_df = df\n",
    "\n",
    "df['Squad'] = orig_df['Squad']\n",
    "df['League'] = orig_df['League']\n",
    "\n",
    "df.to_csv('messy.csv', index=False)\n",
    "\n",
    "# Restore League\n",
    "league_cols = [col for col in df.columns if col.startswith('League_')]\n",
    "df['League'] = df[league_cols].idxmax(axis=1).str.replace('League_', '', regex=False)\n",
    "\n",
    "# Restore Season\n",
    "season_cols = [col for col in df.columns if col.startswith('Season_')]\n",
    "df['Season'] = df[season_cols].idxmax(axis=1).str.replace('Season_', '', regex=False)\n",
    "\n",
    "# Restore Position\n",
    "pos_cols = [col for col in df.columns if col.startswith('Pos_')]\n",
    "df['Pos'] = df[pos_cols].idxmax(axis=1).str.replace('Pos_', '', regex=False)\n",
    "\n",
    "# Drop one-hot encoded columns\n",
    "df = df.drop(columns=league_cols + season_cols + pos_cols)\n",
    "\n",
    "# Round rating columns\n",
    "rating_cols = ['Adjusted Rating', 'Predicted Adjusted Rating', 'Rating', 'Predicted Rating']\n",
    "df[rating_cols] = df[rating_cols].round(2)\n",
    "\n",
    "# Reorder columns: start with key identifiers, end with ratings\n",
    "key_cols = ['Player Name', 'Pos', 'Squad', 'League', 'Season']\n",
    "other_cols = [col for col in df.columns if col not in key_cols + rating_cols]\n",
    "df = df[key_cols + other_cols + rating_cols]\n"
   ]
  },
  {
   "cell_type": "code",
   "execution_count": 35,
   "id": "0505ca3b-15c3-4097-8322-75667245a93d",
   "metadata": {},
   "outputs": [
    {
     "data": {
      "text/plain": [
       "Index(['Player Name', 'Pos', 'Squad', 'League', 'Season', '90s', 'Tkl', 'TklW',\n",
       "       'Def 3rd', 'Mid 3rd', 'Att 3rd', 'Chl-Tkl', 'Att', 'Tkl%', 'Chl-Lost',\n",
       "       'Blocks', 'Sh', 'Pass', 'Int', 'Tkl+Int', 'Clr', 'Err', 'CrdY', 'CrdR',\n",
       "       '2CrdY', 'Fls', 'Off', 'Crs', 'PKcon', 'OG', 'Recov', 'Won', 'Lost',\n",
       "       'Won%', 'Defensive_Efficiency', 'Offensive_Contribution',\n",
       "       'Tactical_Contribution', 'Penalty_Risk', 'Defensive_Interaction',\n",
       "       'Win_Ratio', 'Adjusted Rating', 'Predicted Adjusted Rating', 'Rating',\n",
       "       'Predicted Rating'],\n",
       "      dtype='object')"
      ]
     },
     "execution_count": 35,
     "metadata": {},
     "output_type": "execute_result"
    }
   ],
   "source": [
    "df.columns"
   ]
  },
  {
   "cell_type": "code",
   "execution_count": null,
   "id": "64e6150d-50ae-436b-a1f1-50567ac1a780",
   "metadata": {},
   "outputs": [],
   "source": [
    "df.to_csv(\"non_attacker_full_ratings.csv\", index=False)"
   ]
  },
  {
   "cell_type": "code",
   "execution_count": null,
   "id": "19b084a5-5a13-4f94-8035-55f1a616984b",
   "metadata": {},
   "outputs": [],
   "source": [
    "val_df.columns"
   ]
  },
  {
   "cell_type": "code",
   "execution_count": null,
   "id": "b948b26f-4ea0-42fc-9ef4-4e1b4560bc52",
   "metadata": {},
   "outputs": [],
   "source": [
    "X.columns"
   ]
  },
  {
   "cell_type": "code",
   "execution_count": null,
   "id": "6039f684-7f71-40b5-a16f-13c0b6e0468f",
   "metadata": {},
   "outputs": [],
   "source": [
    "print(len(df.loc[df['Pos_DF'] == True]))"
   ]
  },
  {
   "cell_type": "code",
   "execution_count": null,
   "id": "734092b0-eebc-49c1-bba1-8b8ade4c466e",
   "metadata": {},
   "outputs": [],
   "source": [
    "print(len(df))"
   ]
  },
  {
   "cell_type": "code",
   "execution_count": null,
   "id": "c69e976b-efcc-4f14-8ec0-8d4d8a532cde",
   "metadata": {},
   "outputs": [],
   "source": [
    "df.columns"
   ]
  },
  {
   "cell_type": "code",
   "execution_count": null,
   "id": "36ab4079-526d-4758-9b10-02ad1c259aea",
   "metadata": {},
   "outputs": [],
   "source": [
    "best_params"
   ]
  },
  {
   "cell_type": "code",
   "execution_count": null,
   "id": "1844cb60-41bd-4e72-ab9d-80cedf946a34",
   "metadata": {},
   "outputs": [],
   "source": [
    "pred_df['Next_Rating'] = pred_df.groupby('Player Name')['Rating'].shift(-1)\n",
    "pred_df['Next_Season'] = pred_df.groupby('Player Name')['Season'].shift(-1)\n",
    "\n",
    "pred_df['Rating Diff'] = pred_df['Next_Rating'] - pred_df['Rating']"
   ]
  },
  {
   "cell_type": "code",
   "execution_count": null,
   "id": "7edf1573-a5a7-4e5a-9df1-4b9a3602836f",
   "metadata": {},
   "outputs": [],
   "source": [
    "pred_df.columns"
   ]
  },
  {
   "cell_type": "code",
   "execution_count": null,
   "id": "721a223e-e907-478f-93e2-0b74133ff12f",
   "metadata": {},
   "outputs": [],
   "source": [
    "train = pred_df.dropna(subset=['Rating Diff'])\n",
    "test = pred_df[pred_df['Rating Diff'].isnull()]\n",
    "X_train = train.drop(columns=['Rating Diff', 'Player Name', 'Next_Rating', 'Next_Season', 'Pos', 'Squad', 'League', 'Season'])\n",
    "y_train = train['Rating Diff']\n",
    "\n",
    "model.fit(X_train, y_train)\n",
    "y_pred = model.predict(X_test)"
   ]
  },
  {
   "cell_type": "code",
   "execution_count": null,
   "id": "6dd20586-67c9-4c2d-84b8-835e4b1fc0ea",
   "metadata": {},
   "outputs": [],
   "source": [
    "X_train.columns"
   ]
  },
  {
   "cell_type": "code",
   "execution_count": null,
   "id": "0c13ef80-8e1b-4e24-a594-721fa7c0d1b1",
   "metadata": {},
   "outputs": [],
   "source": [
    "X_test = X_test.drop(columns=['Season_2021-2022', 'Season_2022-2023', 'Season_2023-2024', 'Pos_DF', 'Pos_DF,MF', 'Pos_MF', 'Pos_MF,DF', 'League_Bundesliga', 'League_La Liga', 'League_Ligue 1', 'League_Premier League', 'League_Serie A'], errors=\"ignore\")"
   ]
  },
  {
   "cell_type": "code",
   "execution_count": null,
   "id": "a2026c6a-a1b8-409d-b47d-f004c6e92594",
   "metadata": {},
   "outputs": [],
   "source": [
    "X_test.columns"
   ]
  },
  {
   "cell_type": "code",
   "execution_count": 7,
   "id": "f6f65593-f70b-4561-a648-41446a10a102",
   "metadata": {},
   "outputs": [
    {
     "ename": "HTTPError",
     "evalue": "HTTP Error 403: Forbidden",
     "output_type": "error",
     "traceback": [
      "\u001b[1;31m---------------------------------------------------------------------------\u001b[0m",
      "\u001b[1;31mHTTPError\u001b[0m                                 Traceback (most recent call last)",
      "Cell \u001b[1;32mIn[7], line 1\u001b[0m\n\u001b[1;32m----> 1\u001b[0m \u001b[43mpd\u001b[49m\u001b[38;5;241;43m.\u001b[39;49m\u001b[43mread_html\u001b[49m\u001b[43m(\u001b[49m\u001b[38;5;124;43m'\u001b[39;49m\u001b[38;5;124;43mhttps://fbref.com/en/comps/Big5/2023-2024/2023-2024-Big-5-European-Leagues-Stats\u001b[39;49m\u001b[38;5;124;43m'\u001b[39;49m\u001b[43m)\u001b[49m\n",
      "File \u001b[1;32m~\\AppData\\Local\\Packages\\PythonSoftwareFoundation.Python.3.11_qbz5n2kfra8p0\\LocalCache\\local-packages\\Python311\\site-packages\\pandas\\io\\html.py:1245\u001b[0m, in \u001b[0;36mread_html\u001b[1;34m(io, match, flavor, header, index_col, skiprows, attrs, parse_dates, thousands, encoding, decimal, converters, na_values, keep_default_na, displayed_only, extract_links, dtype_backend, storage_options)\u001b[0m\n\u001b[0;32m   1229\u001b[0m \u001b[38;5;28;01mif\u001b[39;00m \u001b[38;5;28misinstance\u001b[39m(io, \u001b[38;5;28mstr\u001b[39m) \u001b[38;5;129;01mand\u001b[39;00m \u001b[38;5;129;01mnot\u001b[39;00m \u001b[38;5;28many\u001b[39m(\n\u001b[0;32m   1230\u001b[0m     [\n\u001b[0;32m   1231\u001b[0m         is_file_like(io),\n\u001b[1;32m   (...)\u001b[0m\n\u001b[0;32m   1235\u001b[0m     ]\n\u001b[0;32m   1236\u001b[0m ):\n\u001b[0;32m   1237\u001b[0m     warnings\u001b[38;5;241m.\u001b[39mwarn(\n\u001b[0;32m   1238\u001b[0m         \u001b[38;5;124m\"\u001b[39m\u001b[38;5;124mPassing literal html to \u001b[39m\u001b[38;5;124m'\u001b[39m\u001b[38;5;124mread_html\u001b[39m\u001b[38;5;124m'\u001b[39m\u001b[38;5;124m is deprecated and \u001b[39m\u001b[38;5;124m\"\u001b[39m\n\u001b[0;32m   1239\u001b[0m         \u001b[38;5;124m\"\u001b[39m\u001b[38;5;124mwill be removed in a future version. To read from a \u001b[39m\u001b[38;5;124m\"\u001b[39m\n\u001b[1;32m   (...)\u001b[0m\n\u001b[0;32m   1242\u001b[0m         stacklevel\u001b[38;5;241m=\u001b[39mfind_stack_level(),\n\u001b[0;32m   1243\u001b[0m     )\n\u001b[1;32m-> 1245\u001b[0m \u001b[38;5;28;01mreturn\u001b[39;00m \u001b[43m_parse\u001b[49m\u001b[43m(\u001b[49m\n\u001b[0;32m   1246\u001b[0m \u001b[43m    \u001b[49m\u001b[43mflavor\u001b[49m\u001b[38;5;241;43m=\u001b[39;49m\u001b[43mflavor\u001b[49m\u001b[43m,\u001b[49m\n\u001b[0;32m   1247\u001b[0m \u001b[43m    \u001b[49m\u001b[43mio\u001b[49m\u001b[38;5;241;43m=\u001b[39;49m\u001b[43mio\u001b[49m\u001b[43m,\u001b[49m\n\u001b[0;32m   1248\u001b[0m \u001b[43m    \u001b[49m\u001b[43mmatch\u001b[49m\u001b[38;5;241;43m=\u001b[39;49m\u001b[43mmatch\u001b[49m\u001b[43m,\u001b[49m\n\u001b[0;32m   1249\u001b[0m \u001b[43m    \u001b[49m\u001b[43mheader\u001b[49m\u001b[38;5;241;43m=\u001b[39;49m\u001b[43mheader\u001b[49m\u001b[43m,\u001b[49m\n\u001b[0;32m   1250\u001b[0m \u001b[43m    \u001b[49m\u001b[43mindex_col\u001b[49m\u001b[38;5;241;43m=\u001b[39;49m\u001b[43mindex_col\u001b[49m\u001b[43m,\u001b[49m\n\u001b[0;32m   1251\u001b[0m \u001b[43m    \u001b[49m\u001b[43mskiprows\u001b[49m\u001b[38;5;241;43m=\u001b[39;49m\u001b[43mskiprows\u001b[49m\u001b[43m,\u001b[49m\n\u001b[0;32m   1252\u001b[0m \u001b[43m    \u001b[49m\u001b[43mparse_dates\u001b[49m\u001b[38;5;241;43m=\u001b[39;49m\u001b[43mparse_dates\u001b[49m\u001b[43m,\u001b[49m\n\u001b[0;32m   1253\u001b[0m \u001b[43m    \u001b[49m\u001b[43mthousands\u001b[49m\u001b[38;5;241;43m=\u001b[39;49m\u001b[43mthousands\u001b[49m\u001b[43m,\u001b[49m\n\u001b[0;32m   1254\u001b[0m \u001b[43m    \u001b[49m\u001b[43mattrs\u001b[49m\u001b[38;5;241;43m=\u001b[39;49m\u001b[43mattrs\u001b[49m\u001b[43m,\u001b[49m\n\u001b[0;32m   1255\u001b[0m \u001b[43m    \u001b[49m\u001b[43mencoding\u001b[49m\u001b[38;5;241;43m=\u001b[39;49m\u001b[43mencoding\u001b[49m\u001b[43m,\u001b[49m\n\u001b[0;32m   1256\u001b[0m \u001b[43m    \u001b[49m\u001b[43mdecimal\u001b[49m\u001b[38;5;241;43m=\u001b[39;49m\u001b[43mdecimal\u001b[49m\u001b[43m,\u001b[49m\n\u001b[0;32m   1257\u001b[0m \u001b[43m    \u001b[49m\u001b[43mconverters\u001b[49m\u001b[38;5;241;43m=\u001b[39;49m\u001b[43mconverters\u001b[49m\u001b[43m,\u001b[49m\n\u001b[0;32m   1258\u001b[0m \u001b[43m    \u001b[49m\u001b[43mna_values\u001b[49m\u001b[38;5;241;43m=\u001b[39;49m\u001b[43mna_values\u001b[49m\u001b[43m,\u001b[49m\n\u001b[0;32m   1259\u001b[0m \u001b[43m    \u001b[49m\u001b[43mkeep_default_na\u001b[49m\u001b[38;5;241;43m=\u001b[39;49m\u001b[43mkeep_default_na\u001b[49m\u001b[43m,\u001b[49m\n\u001b[0;32m   1260\u001b[0m \u001b[43m    \u001b[49m\u001b[43mdisplayed_only\u001b[49m\u001b[38;5;241;43m=\u001b[39;49m\u001b[43mdisplayed_only\u001b[49m\u001b[43m,\u001b[49m\n\u001b[0;32m   1261\u001b[0m \u001b[43m    \u001b[49m\u001b[43mextract_links\u001b[49m\u001b[38;5;241;43m=\u001b[39;49m\u001b[43mextract_links\u001b[49m\u001b[43m,\u001b[49m\n\u001b[0;32m   1262\u001b[0m \u001b[43m    \u001b[49m\u001b[43mdtype_backend\u001b[49m\u001b[38;5;241;43m=\u001b[39;49m\u001b[43mdtype_backend\u001b[49m\u001b[43m,\u001b[49m\n\u001b[0;32m   1263\u001b[0m \u001b[43m    \u001b[49m\u001b[43mstorage_options\u001b[49m\u001b[38;5;241;43m=\u001b[39;49m\u001b[43mstorage_options\u001b[49m\u001b[43m,\u001b[49m\n\u001b[0;32m   1264\u001b[0m \u001b[43m\u001b[49m\u001b[43m)\u001b[49m\n",
      "File \u001b[1;32m~\\AppData\\Local\\Packages\\PythonSoftwareFoundation.Python.3.11_qbz5n2kfra8p0\\LocalCache\\local-packages\\Python311\\site-packages\\pandas\\io\\html.py:988\u001b[0m, in \u001b[0;36m_parse\u001b[1;34m(flavor, io, match, attrs, encoding, displayed_only, extract_links, storage_options, **kwargs)\u001b[0m\n\u001b[0;32m    977\u001b[0m p \u001b[38;5;241m=\u001b[39m parser(\n\u001b[0;32m    978\u001b[0m     io,\n\u001b[0;32m    979\u001b[0m     compiled_match,\n\u001b[1;32m   (...)\u001b[0m\n\u001b[0;32m    984\u001b[0m     storage_options,\n\u001b[0;32m    985\u001b[0m )\n\u001b[0;32m    987\u001b[0m \u001b[38;5;28;01mtry\u001b[39;00m:\n\u001b[1;32m--> 988\u001b[0m     tables \u001b[38;5;241m=\u001b[39m \u001b[43mp\u001b[49m\u001b[38;5;241;43m.\u001b[39;49m\u001b[43mparse_tables\u001b[49m\u001b[43m(\u001b[49m\u001b[43m)\u001b[49m\n\u001b[0;32m    989\u001b[0m \u001b[38;5;28;01mexcept\u001b[39;00m \u001b[38;5;167;01mValueError\u001b[39;00m \u001b[38;5;28;01mas\u001b[39;00m caught:\n\u001b[0;32m    990\u001b[0m     \u001b[38;5;66;03m# if `io` is an io-like object, check if it's seekable\u001b[39;00m\n\u001b[0;32m    991\u001b[0m     \u001b[38;5;66;03m# and try to rewind it before trying the next parser\u001b[39;00m\n\u001b[0;32m    992\u001b[0m     \u001b[38;5;28;01mif\u001b[39;00m \u001b[38;5;28mhasattr\u001b[39m(io, \u001b[38;5;124m\"\u001b[39m\u001b[38;5;124mseekable\u001b[39m\u001b[38;5;124m\"\u001b[39m) \u001b[38;5;129;01mand\u001b[39;00m io\u001b[38;5;241m.\u001b[39mseekable():\n",
      "File \u001b[1;32m~\\AppData\\Local\\Packages\\PythonSoftwareFoundation.Python.3.11_qbz5n2kfra8p0\\LocalCache\\local-packages\\Python311\\site-packages\\pandas\\io\\html.py:248\u001b[0m, in \u001b[0;36m_HtmlFrameParser.parse_tables\u001b[1;34m(self)\u001b[0m\n\u001b[0;32m    240\u001b[0m \u001b[38;5;28;01mdef\u001b[39;00m \u001b[38;5;21mparse_tables\u001b[39m(\u001b[38;5;28mself\u001b[39m):\n\u001b[0;32m    241\u001b[0m \u001b[38;5;250m    \u001b[39m\u001b[38;5;124;03m\"\"\"\u001b[39;00m\n\u001b[0;32m    242\u001b[0m \u001b[38;5;124;03m    Parse and return all tables from the DOM.\u001b[39;00m\n\u001b[0;32m    243\u001b[0m \n\u001b[1;32m   (...)\u001b[0m\n\u001b[0;32m    246\u001b[0m \u001b[38;5;124;03m    list of parsed (header, body, footer) tuples from tables.\u001b[39;00m\n\u001b[0;32m    247\u001b[0m \u001b[38;5;124;03m    \"\"\"\u001b[39;00m\n\u001b[1;32m--> 248\u001b[0m     tables \u001b[38;5;241m=\u001b[39m \u001b[38;5;28mself\u001b[39m\u001b[38;5;241m.\u001b[39m_parse_tables(\u001b[38;5;28;43mself\u001b[39;49m\u001b[38;5;241;43m.\u001b[39;49m\u001b[43m_build_doc\u001b[49m\u001b[43m(\u001b[49m\u001b[43m)\u001b[49m, \u001b[38;5;28mself\u001b[39m\u001b[38;5;241m.\u001b[39mmatch, \u001b[38;5;28mself\u001b[39m\u001b[38;5;241m.\u001b[39mattrs)\n\u001b[0;32m    249\u001b[0m     \u001b[38;5;28;01mreturn\u001b[39;00m (\u001b[38;5;28mself\u001b[39m\u001b[38;5;241m.\u001b[39m_parse_thead_tbody_tfoot(table) \u001b[38;5;28;01mfor\u001b[39;00m table \u001b[38;5;129;01min\u001b[39;00m tables)\n",
      "File \u001b[1;32m~\\AppData\\Local\\Packages\\PythonSoftwareFoundation.Python.3.11_qbz5n2kfra8p0\\LocalCache\\local-packages\\Python311\\site-packages\\pandas\\io\\html.py:811\u001b[0m, in \u001b[0;36m_LxmlFrameParser._build_doc\u001b[1;34m(self)\u001b[0m\n\u001b[0;32m    809\u001b[0m             \u001b[38;5;28;01mpass\u001b[39;00m\n\u001b[0;32m    810\u001b[0m     \u001b[38;5;28;01melse\u001b[39;00m:\n\u001b[1;32m--> 811\u001b[0m         \u001b[38;5;28;01mraise\u001b[39;00m e\n\u001b[0;32m    812\u001b[0m \u001b[38;5;28;01melse\u001b[39;00m:\n\u001b[0;32m    813\u001b[0m     \u001b[38;5;28;01mif\u001b[39;00m \u001b[38;5;129;01mnot\u001b[39;00m \u001b[38;5;28mhasattr\u001b[39m(r, \u001b[38;5;124m\"\u001b[39m\u001b[38;5;124mtext_content\u001b[39m\u001b[38;5;124m\"\u001b[39m):\n",
      "File \u001b[1;32m~\\AppData\\Local\\Packages\\PythonSoftwareFoundation.Python.3.11_qbz5n2kfra8p0\\LocalCache\\local-packages\\Python311\\site-packages\\pandas\\io\\html.py:790\u001b[0m, in \u001b[0;36m_LxmlFrameParser._build_doc\u001b[1;34m(self)\u001b[0m\n\u001b[0;32m    788\u001b[0m \u001b[38;5;28;01mtry\u001b[39;00m:\n\u001b[0;32m    789\u001b[0m     \u001b[38;5;28;01mif\u001b[39;00m is_url(\u001b[38;5;28mself\u001b[39m\u001b[38;5;241m.\u001b[39mio):\n\u001b[1;32m--> 790\u001b[0m         \u001b[38;5;28;01mwith\u001b[39;00m \u001b[43mget_handle\u001b[49m\u001b[43m(\u001b[49m\n\u001b[0;32m    791\u001b[0m \u001b[43m            \u001b[49m\u001b[38;5;28;43mself\u001b[39;49m\u001b[38;5;241;43m.\u001b[39;49m\u001b[43mio\u001b[49m\u001b[43m,\u001b[49m\u001b[43m \u001b[49m\u001b[38;5;124;43m\"\u001b[39;49m\u001b[38;5;124;43mr\u001b[39;49m\u001b[38;5;124;43m\"\u001b[39;49m\u001b[43m,\u001b[49m\u001b[43m \u001b[49m\u001b[43mstorage_options\u001b[49m\u001b[38;5;241;43m=\u001b[39;49m\u001b[38;5;28;43mself\u001b[39;49m\u001b[38;5;241;43m.\u001b[39;49m\u001b[43mstorage_options\u001b[49m\n\u001b[0;32m    792\u001b[0m \u001b[43m        \u001b[49m\u001b[43m)\u001b[49m \u001b[38;5;28;01mas\u001b[39;00m f:\n\u001b[0;32m    793\u001b[0m             r \u001b[38;5;241m=\u001b[39m parse(f\u001b[38;5;241m.\u001b[39mhandle, parser\u001b[38;5;241m=\u001b[39mparser)\n\u001b[0;32m    794\u001b[0m     \u001b[38;5;28;01melse\u001b[39;00m:\n\u001b[0;32m    795\u001b[0m         \u001b[38;5;66;03m# try to parse the input in the simplest way\u001b[39;00m\n",
      "File \u001b[1;32m~\\AppData\\Local\\Packages\\PythonSoftwareFoundation.Python.3.11_qbz5n2kfra8p0\\LocalCache\\local-packages\\Python311\\site-packages\\pandas\\io\\common.py:718\u001b[0m, in \u001b[0;36mget_handle\u001b[1;34m(path_or_buf, mode, encoding, compression, memory_map, is_text, errors, storage_options)\u001b[0m\n\u001b[0;32m    715\u001b[0m     codecs\u001b[38;5;241m.\u001b[39mlookup_error(errors)\n\u001b[0;32m    717\u001b[0m \u001b[38;5;66;03m# open URLs\u001b[39;00m\n\u001b[1;32m--> 718\u001b[0m ioargs \u001b[38;5;241m=\u001b[39m \u001b[43m_get_filepath_or_buffer\u001b[49m\u001b[43m(\u001b[49m\n\u001b[0;32m    719\u001b[0m \u001b[43m    \u001b[49m\u001b[43mpath_or_buf\u001b[49m\u001b[43m,\u001b[49m\n\u001b[0;32m    720\u001b[0m \u001b[43m    \u001b[49m\u001b[43mencoding\u001b[49m\u001b[38;5;241;43m=\u001b[39;49m\u001b[43mencoding\u001b[49m\u001b[43m,\u001b[49m\n\u001b[0;32m    721\u001b[0m \u001b[43m    \u001b[49m\u001b[43mcompression\u001b[49m\u001b[38;5;241;43m=\u001b[39;49m\u001b[43mcompression\u001b[49m\u001b[43m,\u001b[49m\n\u001b[0;32m    722\u001b[0m \u001b[43m    \u001b[49m\u001b[43mmode\u001b[49m\u001b[38;5;241;43m=\u001b[39;49m\u001b[43mmode\u001b[49m\u001b[43m,\u001b[49m\n\u001b[0;32m    723\u001b[0m \u001b[43m    \u001b[49m\u001b[43mstorage_options\u001b[49m\u001b[38;5;241;43m=\u001b[39;49m\u001b[43mstorage_options\u001b[49m\u001b[43m,\u001b[49m\n\u001b[0;32m    724\u001b[0m \u001b[43m\u001b[49m\u001b[43m)\u001b[49m\n\u001b[0;32m    726\u001b[0m handle \u001b[38;5;241m=\u001b[39m ioargs\u001b[38;5;241m.\u001b[39mfilepath_or_buffer\n\u001b[0;32m    727\u001b[0m handles: \u001b[38;5;28mlist\u001b[39m[BaseBuffer]\n",
      "File \u001b[1;32m~\\AppData\\Local\\Packages\\PythonSoftwareFoundation.Python.3.11_qbz5n2kfra8p0\\LocalCache\\local-packages\\Python311\\site-packages\\pandas\\io\\common.py:372\u001b[0m, in \u001b[0;36m_get_filepath_or_buffer\u001b[1;34m(filepath_or_buffer, encoding, compression, mode, storage_options)\u001b[0m\n\u001b[0;32m    370\u001b[0m \u001b[38;5;66;03m# assuming storage_options is to be interpreted as headers\u001b[39;00m\n\u001b[0;32m    371\u001b[0m req_info \u001b[38;5;241m=\u001b[39m urllib\u001b[38;5;241m.\u001b[39mrequest\u001b[38;5;241m.\u001b[39mRequest(filepath_or_buffer, headers\u001b[38;5;241m=\u001b[39mstorage_options)\n\u001b[1;32m--> 372\u001b[0m \u001b[38;5;28;01mwith\u001b[39;00m \u001b[43murlopen\u001b[49m\u001b[43m(\u001b[49m\u001b[43mreq_info\u001b[49m\u001b[43m)\u001b[49m \u001b[38;5;28;01mas\u001b[39;00m req:\n\u001b[0;32m    373\u001b[0m     content_encoding \u001b[38;5;241m=\u001b[39m req\u001b[38;5;241m.\u001b[39mheaders\u001b[38;5;241m.\u001b[39mget(\u001b[38;5;124m\"\u001b[39m\u001b[38;5;124mContent-Encoding\u001b[39m\u001b[38;5;124m\"\u001b[39m, \u001b[38;5;28;01mNone\u001b[39;00m)\n\u001b[0;32m    374\u001b[0m     \u001b[38;5;28;01mif\u001b[39;00m content_encoding \u001b[38;5;241m==\u001b[39m \u001b[38;5;124m\"\u001b[39m\u001b[38;5;124mgzip\u001b[39m\u001b[38;5;124m\"\u001b[39m:\n\u001b[0;32m    375\u001b[0m         \u001b[38;5;66;03m# Override compression based on Content-Encoding header\u001b[39;00m\n",
      "File \u001b[1;32m~\\AppData\\Local\\Packages\\PythonSoftwareFoundation.Python.3.11_qbz5n2kfra8p0\\LocalCache\\local-packages\\Python311\\site-packages\\pandas\\io\\common.py:274\u001b[0m, in \u001b[0;36murlopen\u001b[1;34m(*args, **kwargs)\u001b[0m\n\u001b[0;32m    268\u001b[0m \u001b[38;5;250m\u001b[39m\u001b[38;5;124;03m\"\"\"\u001b[39;00m\n\u001b[0;32m    269\u001b[0m \u001b[38;5;124;03mLazy-import wrapper for stdlib urlopen, as that imports a big chunk of\u001b[39;00m\n\u001b[0;32m    270\u001b[0m \u001b[38;5;124;03mthe stdlib.\u001b[39;00m\n\u001b[0;32m    271\u001b[0m \u001b[38;5;124;03m\"\"\"\u001b[39;00m\n\u001b[0;32m    272\u001b[0m \u001b[38;5;28;01mimport\u001b[39;00m \u001b[38;5;21;01murllib\u001b[39;00m\u001b[38;5;21;01m.\u001b[39;00m\u001b[38;5;21;01mrequest\u001b[39;00m\n\u001b[1;32m--> 274\u001b[0m \u001b[38;5;28;01mreturn\u001b[39;00m \u001b[43murllib\u001b[49m\u001b[38;5;241;43m.\u001b[39;49m\u001b[43mrequest\u001b[49m\u001b[38;5;241;43m.\u001b[39;49m\u001b[43murlopen\u001b[49m\u001b[43m(\u001b[49m\u001b[38;5;241;43m*\u001b[39;49m\u001b[43margs\u001b[49m\u001b[43m,\u001b[49m\u001b[43m \u001b[49m\u001b[38;5;241;43m*\u001b[39;49m\u001b[38;5;241;43m*\u001b[39;49m\u001b[43mkwargs\u001b[49m\u001b[43m)\u001b[49m\n",
      "File \u001b[1;32mC:\\Program Files\\WindowsApps\\PythonSoftwareFoundation.Python.3.11_3.11.2544.0_x64__qbz5n2kfra8p0\\Lib\\urllib\\request.py:216\u001b[0m, in \u001b[0;36murlopen\u001b[1;34m(url, data, timeout, cafile, capath, cadefault, context)\u001b[0m\n\u001b[0;32m    214\u001b[0m \u001b[38;5;28;01melse\u001b[39;00m:\n\u001b[0;32m    215\u001b[0m     opener \u001b[38;5;241m=\u001b[39m _opener\n\u001b[1;32m--> 216\u001b[0m \u001b[38;5;28;01mreturn\u001b[39;00m \u001b[43mopener\u001b[49m\u001b[38;5;241;43m.\u001b[39;49m\u001b[43mopen\u001b[49m\u001b[43m(\u001b[49m\u001b[43murl\u001b[49m\u001b[43m,\u001b[49m\u001b[43m \u001b[49m\u001b[43mdata\u001b[49m\u001b[43m,\u001b[49m\u001b[43m \u001b[49m\u001b[43mtimeout\u001b[49m\u001b[43m)\u001b[49m\n",
      "File \u001b[1;32mC:\\Program Files\\WindowsApps\\PythonSoftwareFoundation.Python.3.11_3.11.2544.0_x64__qbz5n2kfra8p0\\Lib\\urllib\\request.py:525\u001b[0m, in \u001b[0;36mOpenerDirector.open\u001b[1;34m(self, fullurl, data, timeout)\u001b[0m\n\u001b[0;32m    523\u001b[0m \u001b[38;5;28;01mfor\u001b[39;00m processor \u001b[38;5;129;01min\u001b[39;00m \u001b[38;5;28mself\u001b[39m\u001b[38;5;241m.\u001b[39mprocess_response\u001b[38;5;241m.\u001b[39mget(protocol, []):\n\u001b[0;32m    524\u001b[0m     meth \u001b[38;5;241m=\u001b[39m \u001b[38;5;28mgetattr\u001b[39m(processor, meth_name)\n\u001b[1;32m--> 525\u001b[0m     response \u001b[38;5;241m=\u001b[39m \u001b[43mmeth\u001b[49m\u001b[43m(\u001b[49m\u001b[43mreq\u001b[49m\u001b[43m,\u001b[49m\u001b[43m \u001b[49m\u001b[43mresponse\u001b[49m\u001b[43m)\u001b[49m\n\u001b[0;32m    527\u001b[0m \u001b[38;5;28;01mreturn\u001b[39;00m response\n",
      "File \u001b[1;32mC:\\Program Files\\WindowsApps\\PythonSoftwareFoundation.Python.3.11_3.11.2544.0_x64__qbz5n2kfra8p0\\Lib\\urllib\\request.py:634\u001b[0m, in \u001b[0;36mHTTPErrorProcessor.http_response\u001b[1;34m(self, request, response)\u001b[0m\n\u001b[0;32m    631\u001b[0m \u001b[38;5;66;03m# According to RFC 2616, \"2xx\" code indicates that the client's\u001b[39;00m\n\u001b[0;32m    632\u001b[0m \u001b[38;5;66;03m# request was successfully received, understood, and accepted.\u001b[39;00m\n\u001b[0;32m    633\u001b[0m \u001b[38;5;28;01mif\u001b[39;00m \u001b[38;5;129;01mnot\u001b[39;00m (\u001b[38;5;241m200\u001b[39m \u001b[38;5;241m<\u001b[39m\u001b[38;5;241m=\u001b[39m code \u001b[38;5;241m<\u001b[39m \u001b[38;5;241m300\u001b[39m):\n\u001b[1;32m--> 634\u001b[0m     response \u001b[38;5;241m=\u001b[39m \u001b[38;5;28;43mself\u001b[39;49m\u001b[38;5;241;43m.\u001b[39;49m\u001b[43mparent\u001b[49m\u001b[38;5;241;43m.\u001b[39;49m\u001b[43merror\u001b[49m\u001b[43m(\u001b[49m\n\u001b[0;32m    635\u001b[0m \u001b[43m        \u001b[49m\u001b[38;5;124;43m'\u001b[39;49m\u001b[38;5;124;43mhttp\u001b[39;49m\u001b[38;5;124;43m'\u001b[39;49m\u001b[43m,\u001b[49m\u001b[43m \u001b[49m\u001b[43mrequest\u001b[49m\u001b[43m,\u001b[49m\u001b[43m \u001b[49m\u001b[43mresponse\u001b[49m\u001b[43m,\u001b[49m\u001b[43m \u001b[49m\u001b[43mcode\u001b[49m\u001b[43m,\u001b[49m\u001b[43m \u001b[49m\u001b[43mmsg\u001b[49m\u001b[43m,\u001b[49m\u001b[43m \u001b[49m\u001b[43mhdrs\u001b[49m\u001b[43m)\u001b[49m\n\u001b[0;32m    637\u001b[0m \u001b[38;5;28;01mreturn\u001b[39;00m response\n",
      "File \u001b[1;32mC:\\Program Files\\WindowsApps\\PythonSoftwareFoundation.Python.3.11_3.11.2544.0_x64__qbz5n2kfra8p0\\Lib\\urllib\\request.py:563\u001b[0m, in \u001b[0;36mOpenerDirector.error\u001b[1;34m(self, proto, *args)\u001b[0m\n\u001b[0;32m    561\u001b[0m \u001b[38;5;28;01mif\u001b[39;00m http_err:\n\u001b[0;32m    562\u001b[0m     args \u001b[38;5;241m=\u001b[39m (\u001b[38;5;28mdict\u001b[39m, \u001b[38;5;124m'\u001b[39m\u001b[38;5;124mdefault\u001b[39m\u001b[38;5;124m'\u001b[39m, \u001b[38;5;124m'\u001b[39m\u001b[38;5;124mhttp_error_default\u001b[39m\u001b[38;5;124m'\u001b[39m) \u001b[38;5;241m+\u001b[39m orig_args\n\u001b[1;32m--> 563\u001b[0m     \u001b[38;5;28;01mreturn\u001b[39;00m \u001b[38;5;28;43mself\u001b[39;49m\u001b[38;5;241;43m.\u001b[39;49m\u001b[43m_call_chain\u001b[49m\u001b[43m(\u001b[49m\u001b[38;5;241;43m*\u001b[39;49m\u001b[43margs\u001b[49m\u001b[43m)\u001b[49m\n",
      "File \u001b[1;32mC:\\Program Files\\WindowsApps\\PythonSoftwareFoundation.Python.3.11_3.11.2544.0_x64__qbz5n2kfra8p0\\Lib\\urllib\\request.py:496\u001b[0m, in \u001b[0;36mOpenerDirector._call_chain\u001b[1;34m(self, chain, kind, meth_name, *args)\u001b[0m\n\u001b[0;32m    494\u001b[0m \u001b[38;5;28;01mfor\u001b[39;00m handler \u001b[38;5;129;01min\u001b[39;00m handlers:\n\u001b[0;32m    495\u001b[0m     func \u001b[38;5;241m=\u001b[39m \u001b[38;5;28mgetattr\u001b[39m(handler, meth_name)\n\u001b[1;32m--> 496\u001b[0m     result \u001b[38;5;241m=\u001b[39m \u001b[43mfunc\u001b[49m\u001b[43m(\u001b[49m\u001b[38;5;241;43m*\u001b[39;49m\u001b[43margs\u001b[49m\u001b[43m)\u001b[49m\n\u001b[0;32m    497\u001b[0m     \u001b[38;5;28;01mif\u001b[39;00m result \u001b[38;5;129;01mis\u001b[39;00m \u001b[38;5;129;01mnot\u001b[39;00m \u001b[38;5;28;01mNone\u001b[39;00m:\n\u001b[0;32m    498\u001b[0m         \u001b[38;5;28;01mreturn\u001b[39;00m result\n",
      "File \u001b[1;32mC:\\Program Files\\WindowsApps\\PythonSoftwareFoundation.Python.3.11_3.11.2544.0_x64__qbz5n2kfra8p0\\Lib\\urllib\\request.py:643\u001b[0m, in \u001b[0;36mHTTPDefaultErrorHandler.http_error_default\u001b[1;34m(self, req, fp, code, msg, hdrs)\u001b[0m\n\u001b[0;32m    642\u001b[0m \u001b[38;5;28;01mdef\u001b[39;00m \u001b[38;5;21mhttp_error_default\u001b[39m(\u001b[38;5;28mself\u001b[39m, req, fp, code, msg, hdrs):\n\u001b[1;32m--> 643\u001b[0m     \u001b[38;5;28;01mraise\u001b[39;00m HTTPError(req\u001b[38;5;241m.\u001b[39mfull_url, code, msg, hdrs, fp)\n",
      "\u001b[1;31mHTTPError\u001b[0m: HTTP Error 403: Forbidden"
     ]
    }
   ],
   "source": [
    "pd.read_html('https://fbref.com/en/comps/Big5/2023-2024/2023-2024-Big-5-European-Leagues-Stats')"
   ]
  },
  {
   "cell_type": "code",
   "execution_count": 2,
   "id": "2158aa21-759c-492d-9887-c2e5f46c376f",
   "metadata": {},
   "outputs": [],
   "source": [
    "best_params = {\n",
    "    \"objective\": \"reg:squarederror\",\n",
    "    \"max_depth\": 3,\n",
    "    \"learning_rate\": 0.0605487138909333,\n",
    "    \"subsample\": 0.6177495307302218,\n",
    "    \"colsample_bytree\": 0.6524095821589513,\n",
    "    \"reg_alpha\": 0.6304827381123799,\n",
    "    \"reg_lambda\": 0.023966067481592194,\n",
    "    \"min_child_weight\": 8,\n",
    "    \"seed\": 42\n",
    "}"
   ]
  },
  {
   "cell_type": "code",
   "execution_count": 3,
   "id": "15d07360-6b2a-4613-a5fd-0fdad8b5f0c0",
   "metadata": {},
   "outputs": [
    {
     "ename": "NameError",
     "evalue": "name 'df' is not defined",
     "output_type": "error",
     "traceback": [
      "\u001b[1;31m---------------------------------------------------------------------------\u001b[0m",
      "\u001b[1;31mNameError\u001b[0m                                 Traceback (most recent call last)",
      "Cell \u001b[1;32mIn[3], line 1\u001b[0m\n\u001b[1;32m----> 1\u001b[0m \u001b[43mdf\u001b[49m\u001b[38;5;241m.\u001b[39mcolumns\n",
      "\u001b[1;31mNameError\u001b[0m: name 'df' is not defined"
     ]
    }
   ],
   "source": [
    "df.columns"
   ]
  },
  {
   "cell_type": "code",
   "execution_count": null,
   "id": "c5383887-1654-48ad-8226-75cb8d9f61c0",
   "metadata": {},
   "outputs": [],
   "source": [
    "df = pd.read_csv(\"finalized_players.csv\")\n",
    "#df = add_team_features(df)\n",
    "df, orig_df, mean_def, std_def = setup(df)\n",
    "\n",
    "X = df.drop(columns=['Rating', 'Adjusted Rating'], errors=\"ignore\")\n",
    "y = df['Adjusted Rating']\n",
    "\n",
    "X = df[df[\"Season_2021-2022\"].isin([\"2021-2022\", \"2022-2023\"])]\n",
    "\n",
    "X_train, X_temp, y_train, y_temp = train_test_split(X, y, test_size=0.2, random_state=42)\n",
    "X_val, X_test, y_val, y_test = train_test_split(X_temp, y_temp, test_size=0.5, random_state=42)"
   ]
  }
 ],
 "metadata": {
  "kernelspec": {
   "display_name": "Python 3 (ipykernel)",
   "language": "python",
   "name": "python3"
  },
  "language_info": {
   "codemirror_mode": {
    "name": "ipython",
    "version": 3
   },
   "file_extension": ".py",
   "mimetype": "text/x-python",
   "name": "python",
   "nbconvert_exporter": "python",
   "pygments_lexer": "ipython3",
   "version": "3.11.9"
  }
 },
 "nbformat": 4,
 "nbformat_minor": 5
}
