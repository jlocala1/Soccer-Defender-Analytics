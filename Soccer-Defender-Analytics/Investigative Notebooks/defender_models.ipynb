{
 "cells": [
  {
   "cell_type": "markdown",
   "metadata": {},
   "source": [
    "# Read data from csv that contains combined defenders statistics and their respective seasonal ratings for past three seasons."
   ]
  },
  {
   "cell_type": "code",
   "execution_count": 1,
   "metadata": {
    "ExecuteTime": {
     "end_time": "2025-03-06T19:19:24.760295Z",
     "start_time": "2025-03-06T19:19:23.953746Z"
    }
   },
   "outputs": [],
   "source": [
    "import pandas as pd"
   ]
  },
  {
   "cell_type": "code",
   "execution_count": 2,
   "metadata": {
    "ExecuteTime": {
     "end_time": "2025-03-06T19:19:24.808229Z",
     "start_time": "2025-03-06T19:19:24.771637Z"
    }
   },
   "outputs": [],
   "source": [
    "df = pd.read_csv(\"finalized_players.csv\")"
   ]
  },
  {
   "cell_type": "code",
   "execution_count": 3,
   "metadata": {
    "ExecuteTime": {
     "end_time": "2025-03-06T19:19:25.121703Z",
     "start_time": "2025-03-06T19:19:25.115823Z"
    }
   },
   "outputs": [
    {
     "name": "stdout",
     "output_type": "stream",
     "text": [
      "(3652, 35)\n"
     ]
    }
   ],
   "source": [
    "print(df.shape)"
   ]
  },
  {
   "cell_type": "markdown",
   "metadata": {},
   "source": [
    "# Now, we want to see if there are any entries of players without seasonal ratings, if so, exclude them from the data."
   ]
  },
  {
   "cell_type": "code",
   "execution_count": 4,
   "metadata": {
    "ExecuteTime": {
     "end_time": "2025-03-06T19:19:25.187622Z",
     "start_time": "2025-03-06T19:19:25.160661Z"
    }
   },
   "outputs": [
    {
     "name": "stdout",
     "output_type": "stream",
     "text": [
      "                Player Name    Pos           Squad          League   90s  Tkl  \\\n",
      "17         Anel Ahmedhodžić     DF   Sheffield Utd  Premier League  29.4   64   \n",
      "19          Rayan Aït-Nouri  DF,MF          Wolves  Premier League  25.9   71   \n",
      "44     Michael Amir Murillo     DF       Marseille         Ligue 1  11.1   23   \n",
      "50       Miguel Ángel Rubio     DF         Granada         La Liga  17.3   20   \n",
      "56         Oliver Arblaster     MF   Sheffield Utd  Premier League  10.5   23   \n",
      "...                     ...    ...             ...             ...   ...  ...   \n",
      "3579  José Luis García Vayá     MF         Levante         La Liga  22.4   46   \n",
      "3590         Freddie Veseli     DF     Salernitana         Serie A   6.6    7   \n",
      "3609     Kyle Walker-Peters     DF     Southampton  Premier League  29.3   57   \n",
      "3610      Aaron Wan-Bissaka     DF  Manchester Utd  Premier League  19.9   49   \n",
      "3612      James Ward-Prowse     MF     Southampton  Premier League  35.7   41   \n",
      "\n",
      "      TklW  Def 3rd  Mid 3rd  Att 3rd  ...  Off  Crs  PKcon  OG  Recov  Won  \\\n",
      "17      36       48       14        2  ...    2    6      0   0    106   52   \n",
      "19      44       41       23        7  ...    8   41      1   0    136   21   \n",
      "44      11       13        6        4  ...    6   16      0   0     60   15   \n",
      "50      12       14        6        0  ...    1    0      0   0     77   58   \n",
      "56      14       11        8        4  ...    0    7      0   1     52    9   \n",
      "...    ...      ...      ...      ...  ...  ...  ...    ...  ..    ...  ...   \n",
      "3579    27       10       31        5  ...    0   58      0   0    149   31   \n",
      "3590     2        4        3        0  ...    0    4      2   0     27    7   \n",
      "3609    33       28       21        8  ...    3   50      0   0    187   27   \n",
      "3610    36       25       18        6  ...    1   35      1   0    126   19   \n",
      "3612    24       12       24        5  ...    0  302      0   0    259   27   \n",
      "\n",
      "      Lost  Won%     Season  Rating  \n",
      "17      36  59.1  2023-2024     NaN  \n",
      "19      25  45.7  2023-2024     NaN  \n",
      "44      11  57.7  2023-2024     NaN  \n",
      "50      30  65.9  2023-2024     NaN  \n",
      "56      15  37.5  2023-2024     NaN  \n",
      "...    ...   ...        ...     ...  \n",
      "3579    14  68.9  2021-2022     NaN  \n",
      "3590     4  63.6  2021-2022     NaN  \n",
      "3609    28  49.1  2021-2022     NaN  \n",
      "3610    32  37.3  2021-2022     NaN  \n",
      "3612    34  44.3  2021-2022     NaN  \n",
      "\n",
      "[131 rows x 35 columns]\n"
     ]
    }
   ],
   "source": [
    "print(df[df.isnull().any(axis=1)])"
   ]
  },
  {
   "cell_type": "markdown",
   "metadata": {},
   "source": [
    "# We see we have 131 players who do not have ratings, so we are going to exclude them to produce a \"cleaned\" DataFrame"
   ]
  },
  {
   "cell_type": "code",
   "execution_count": 5,
   "metadata": {
    "ExecuteTime": {
     "end_time": "2025-03-06T19:19:25.261442Z",
     "start_time": "2025-03-06T19:19:25.252313Z"
    }
   },
   "outputs": [],
   "source": [
    "df_clean = df.dropna()"
   ]
  },
  {
   "cell_type": "code",
   "execution_count": 6,
   "metadata": {
    "ExecuteTime": {
     "end_time": "2025-03-06T19:19:25.331053Z",
     "start_time": "2025-03-06T19:19:25.319182Z"
    }
   },
   "outputs": [
    {
     "name": "stdout",
     "output_type": "stream",
     "text": [
      "(3521, 35)\n",
      "Empty DataFrame\n",
      "Columns: [Player Name, Pos, Squad, League, 90s, Tkl, TklW, Def 3rd, Mid 3rd, Att 3rd, Chl-Tkl, Att, Tkl%, Chl-Lost, Blocks, Sh, Pass, Int, Tkl+Int, Clr, Err, CrdY, CrdR, 2CrdY, Fls, Off, Crs, PKcon, OG, Recov, Won, Lost, Won%, Season, Rating]\n",
      "Index: []\n",
      "\n",
      "[0 rows x 35 columns]\n"
     ]
    }
   ],
   "source": [
    "# Ensure that the number of rows of players with NaN values summed with the rows of the clean df equal the original\n",
    "# number of rows. Also that our cleaned df contains no NaN values\n",
    "print(df_clean.shape)\n",
    "print(df_clean[df_clean.isnull().any(axis=1)])"
   ]
  },
  {
   "cell_type": "code",
   "execution_count": 7,
   "metadata": {
    "ExecuteTime": {
     "end_time": "2025-03-06T19:19:25.411038Z",
     "start_time": "2025-03-06T19:19:25.389037Z"
    }
   },
   "outputs": [
    {
     "name": "stdout",
     "output_type": "stream",
     "text": [
      "            Player Name    Pos          Squad          League   90s  Tkl  \\\n",
      "0            Max Aarons     DF    Bournemouth  Premier League  13.7   29   \n",
      "1      Yunis Abdelhamid     DF          Reims         Ligue 1  30.9   64   \n",
      "2     Salis Abdul Samed     MF           Lens         Ligue 1  16.9   21   \n",
      "3       Laurent Abergel     MF        Lorient         Ligue 1  31.8   85   \n",
      "4                 Abner     DF          Betis         La Liga  15.6   25   \n",
      "...                 ...    ...            ...             ...   ...  ...   \n",
      "3647       Nadir Zortea  DF,MF    Salernitana         Serie A  15.7   21   \n",
      "3648         Kurt Zouma     DF       West Ham  Premier League  23.1   11   \n",
      "3649      Igor Zubeldia     DF  Real Sociedad         La Liga  18.3   20   \n",
      "3650   Martín Zubimendi     MF  Real Sociedad         La Liga  28.8   52   \n",
      "3651   Szymon Żurkowski     MF         Empoli         Serie A  25.6   58   \n",
      "\n",
      "      TklW  Def 3rd  Mid 3rd  Att 3rd  ...  Off  Crs  PKcon  OG  Recov  Won  \\\n",
      "0       19       20        7        2  ...    2   13      1   0     75    5   \n",
      "1       35       36       23        5  ...    0    3      0   1    149   61   \n",
      "2       14        8       10        3  ...    0    3      3   0     89    2   \n",
      "3       52       43       34        8  ...    1   34      0   0    226   15   \n",
      "4       19       15        9        1  ...    2   26      1   0     79   14   \n",
      "...    ...      ...      ...      ...  ...  ...  ...    ...  ..    ...  ...   \n",
      "3647    15        9        7        5  ...    0   85      0   0     72    8   \n",
      "3648     6        8        3        0  ...    0    1      0   1     92   50   \n",
      "3649    10       12        8        0  ...    1    4      1   0     90   41   \n",
      "3650    25       19       30        3  ...    3    2      0   0    139   63   \n",
      "3651    33       24       21       13  ...    0   23      1   0    162   24   \n",
      "\n",
      "      Lost  Won%     Season  Rating  \n",
      "0       11  31.3  2023-2024    6.25  \n",
      "1       37  62.2  2023-2024    6.77  \n",
      "2        7  22.2  2023-2024    6.22  \n",
      "3       14  51.7  2023-2024    6.91  \n",
      "4       10  58.3  2023-2024    6.41  \n",
      "...    ...   ...        ...     ...  \n",
      "3647    17  32.0  2021-2022    6.36  \n",
      "3648    31  61.7  2021-2022    6.74  \n",
      "3649    34  54.7  2021-2022    6.41  \n",
      "3650    24  72.4  2021-2022    6.76  \n",
      "3651    32  42.9  2021-2022    6.80  \n",
      "\n",
      "[3521 rows x 35 columns]\n"
     ]
    }
   ],
   "source": [
    "print(df_clean)"
   ]
  },
  {
   "cell_type": "code",
   "execution_count": 8,
   "metadata": {
    "ExecuteTime": {
     "end_time": "2025-03-06T19:19:25.523362Z",
     "start_time": "2025-03-06T19:19:25.513849Z"
    }
   },
   "outputs": [
    {
     "name": "stdout",
     "output_type": "stream",
     "text": [
      "Player Name     object\n",
      "Pos             object\n",
      "Squad           object\n",
      "League          object\n",
      "90s            float64\n",
      "Tkl              int64\n",
      "TklW             int64\n",
      "Def 3rd          int64\n",
      "Mid 3rd          int64\n",
      "Att 3rd          int64\n",
      "Chl-Tkl          int64\n",
      "Att              int64\n",
      "Tkl%           float64\n",
      "Chl-Lost         int64\n",
      "Blocks           int64\n",
      "Sh               int64\n",
      "Pass             int64\n",
      "Int              int64\n",
      "Tkl+Int          int64\n",
      "Clr              int64\n",
      "Err              int64\n",
      "CrdY             int64\n",
      "CrdR             int64\n",
      "2CrdY            int64\n",
      "Fls              int64\n",
      "Off              int64\n",
      "Crs              int64\n",
      "PKcon            int64\n",
      "OG               int64\n",
      "Recov            int64\n",
      "Won              int64\n",
      "Lost             int64\n",
      "Won%           float64\n",
      "Season          object\n",
      "Rating         float64\n",
      "dtype: object\n"
     ]
    }
   ],
   "source": [
    "print(df_clean.dtypes)"
   ]
  },
  {
   "cell_type": "markdown",
   "metadata": {},
   "source": [
    "# Also, need to drop columns such as Name, Squad, and League."
   ]
  },
  {
   "cell_type": "code",
   "execution_count": 9,
   "metadata": {
    "ExecuteTime": {
     "end_time": "2025-03-06T19:19:25.653352Z",
     "start_time": "2025-03-06T19:19:25.643176Z"
    }
   },
   "outputs": [],
   "source": [
    "df_processed = df_clean.drop(columns=[\"Player Name\", \"Squad\", \"League\", \"Season\"])"
   ]
  },
  {
   "cell_type": "code",
   "execution_count": 10,
   "metadata": {
    "ExecuteTime": {
     "end_time": "2025-03-06T19:19:25.676485Z",
     "start_time": "2025-03-06T19:19:25.669443Z"
    }
   },
   "outputs": [
    {
     "name": "stdout",
     "output_type": "stream",
     "text": [
      "(3521, 31)\n"
     ]
    }
   ],
   "source": [
    "# Ensure we removed the correct number of columns\n",
    "print(df_processed.shape)"
   ]
  },
  {
   "cell_type": "code",
   "execution_count": 11,
   "metadata": {
    "ExecuteTime": {
     "end_time": "2025-03-06T19:19:25.812081Z",
     "start_time": "2025-03-06T19:19:25.803879Z"
    }
   },
   "outputs": [],
   "source": [
    "# Now, we want to transform the players' positions using One-Hot Encoding, but first we need to keep consistency\n",
    "# in positions. We need to modify the players who are MF, DF to be DF, MF. This ensure we only have 3 different positions\n",
    "df_processed['Pos'] = df_processed['Pos'].replace('MF,DF', 'DF,MF')"
   ]
  },
  {
   "cell_type": "code",
   "execution_count": 12,
   "metadata": {
    "ExecuteTime": {
     "end_time": "2025-03-06T19:19:25.860636Z",
     "start_time": "2025-03-06T19:19:25.828538Z"
    }
   },
   "outputs": [
    {
     "data": {
      "text/plain": [
       "array(['DF', 'MF', 'DF,MF'], dtype=object)"
      ]
     },
     "execution_count": 12,
     "metadata": {},
     "output_type": "execute_result"
    }
   ],
   "source": [
    "# Ensure we only have three positions to properly apply ONE-HOT Encoding.\n",
    "df_processed['Pos'].unique()"
   ]
  },
  {
   "cell_type": "code",
   "execution_count": 13,
   "metadata": {
    "ExecuteTime": {
     "end_time": "2025-03-06T19:19:25.939346Z",
     "start_time": "2025-03-06T19:19:25.913991Z"
    }
   },
   "outputs": [],
   "source": [
    "df_encoded = pd.get_dummies(df_processed, columns=[\"Pos\"], drop_first=True)\n",
    "df_encoded = df_encoded.astype({'Pos_DF,MF': 'int', 'Pos_MF': 'int'})\n"
   ]
  },
  {
   "cell_type": "code",
   "execution_count": 14,
   "metadata": {},
   "outputs": [
    {
     "data": {
      "text/html": [
       "<div>\n",
       "<style scoped>\n",
       "    .dataframe tbody tr th:only-of-type {\n",
       "        vertical-align: middle;\n",
       "    }\n",
       "\n",
       "    .dataframe tbody tr th {\n",
       "        vertical-align: top;\n",
       "    }\n",
       "\n",
       "    .dataframe thead th {\n",
       "        text-align: right;\n",
       "    }\n",
       "</style>\n",
       "<table border=\"1\" class=\"dataframe\">\n",
       "  <thead>\n",
       "    <tr style=\"text-align: right;\">\n",
       "      <th></th>\n",
       "      <th>90s</th>\n",
       "      <th>Tkl</th>\n",
       "      <th>TklW</th>\n",
       "      <th>Def 3rd</th>\n",
       "      <th>Mid 3rd</th>\n",
       "      <th>Att 3rd</th>\n",
       "      <th>Chl-Tkl</th>\n",
       "      <th>Att</th>\n",
       "      <th>Tkl%</th>\n",
       "      <th>Chl-Lost</th>\n",
       "      <th>...</th>\n",
       "      <th>Crs</th>\n",
       "      <th>PKcon</th>\n",
       "      <th>OG</th>\n",
       "      <th>Recov</th>\n",
       "      <th>Won</th>\n",
       "      <th>Lost</th>\n",
       "      <th>Won%</th>\n",
       "      <th>Rating</th>\n",
       "      <th>Pos_DF,MF</th>\n",
       "      <th>Pos_MF</th>\n",
       "    </tr>\n",
       "  </thead>\n",
       "  <tbody>\n",
       "    <tr>\n",
       "      <th>0</th>\n",
       "      <td>13.7</td>\n",
       "      <td>29</td>\n",
       "      <td>19</td>\n",
       "      <td>20</td>\n",
       "      <td>7</td>\n",
       "      <td>2</td>\n",
       "      <td>20</td>\n",
       "      <td>34</td>\n",
       "      <td>58.8</td>\n",
       "      <td>14</td>\n",
       "      <td>...</td>\n",
       "      <td>13</td>\n",
       "      <td>1</td>\n",
       "      <td>0</td>\n",
       "      <td>75</td>\n",
       "      <td>5</td>\n",
       "      <td>11</td>\n",
       "      <td>31.3</td>\n",
       "      <td>6.25</td>\n",
       "      <td>0</td>\n",
       "      <td>0</td>\n",
       "    </tr>\n",
       "    <tr>\n",
       "      <th>1</th>\n",
       "      <td>30.9</td>\n",
       "      <td>64</td>\n",
       "      <td>35</td>\n",
       "      <td>36</td>\n",
       "      <td>23</td>\n",
       "      <td>5</td>\n",
       "      <td>26</td>\n",
       "      <td>45</td>\n",
       "      <td>57.8</td>\n",
       "      <td>19</td>\n",
       "      <td>...</td>\n",
       "      <td>3</td>\n",
       "      <td>0</td>\n",
       "      <td>1</td>\n",
       "      <td>149</td>\n",
       "      <td>61</td>\n",
       "      <td>37</td>\n",
       "      <td>62.2</td>\n",
       "      <td>6.77</td>\n",
       "      <td>0</td>\n",
       "      <td>0</td>\n",
       "    </tr>\n",
       "    <tr>\n",
       "      <th>2</th>\n",
       "      <td>16.9</td>\n",
       "      <td>21</td>\n",
       "      <td>14</td>\n",
       "      <td>8</td>\n",
       "      <td>10</td>\n",
       "      <td>3</td>\n",
       "      <td>8</td>\n",
       "      <td>18</td>\n",
       "      <td>44.4</td>\n",
       "      <td>10</td>\n",
       "      <td>...</td>\n",
       "      <td>3</td>\n",
       "      <td>3</td>\n",
       "      <td>0</td>\n",
       "      <td>89</td>\n",
       "      <td>2</td>\n",
       "      <td>7</td>\n",
       "      <td>22.2</td>\n",
       "      <td>6.22</td>\n",
       "      <td>0</td>\n",
       "      <td>1</td>\n",
       "    </tr>\n",
       "    <tr>\n",
       "      <th>3</th>\n",
       "      <td>31.8</td>\n",
       "      <td>85</td>\n",
       "      <td>52</td>\n",
       "      <td>43</td>\n",
       "      <td>34</td>\n",
       "      <td>8</td>\n",
       "      <td>38</td>\n",
       "      <td>96</td>\n",
       "      <td>39.6</td>\n",
       "      <td>58</td>\n",
       "      <td>...</td>\n",
       "      <td>34</td>\n",
       "      <td>0</td>\n",
       "      <td>0</td>\n",
       "      <td>226</td>\n",
       "      <td>15</td>\n",
       "      <td>14</td>\n",
       "      <td>51.7</td>\n",
       "      <td>6.91</td>\n",
       "      <td>0</td>\n",
       "      <td>1</td>\n",
       "    </tr>\n",
       "    <tr>\n",
       "      <th>4</th>\n",
       "      <td>15.6</td>\n",
       "      <td>25</td>\n",
       "      <td>19</td>\n",
       "      <td>15</td>\n",
       "      <td>9</td>\n",
       "      <td>1</td>\n",
       "      <td>17</td>\n",
       "      <td>34</td>\n",
       "      <td>50.0</td>\n",
       "      <td>17</td>\n",
       "      <td>...</td>\n",
       "      <td>26</td>\n",
       "      <td>1</td>\n",
       "      <td>0</td>\n",
       "      <td>79</td>\n",
       "      <td>14</td>\n",
       "      <td>10</td>\n",
       "      <td>58.3</td>\n",
       "      <td>6.41</td>\n",
       "      <td>0</td>\n",
       "      <td>0</td>\n",
       "    </tr>\n",
       "    <tr>\n",
       "      <th>...</th>\n",
       "      <td>...</td>\n",
       "      <td>...</td>\n",
       "      <td>...</td>\n",
       "      <td>...</td>\n",
       "      <td>...</td>\n",
       "      <td>...</td>\n",
       "      <td>...</td>\n",
       "      <td>...</td>\n",
       "      <td>...</td>\n",
       "      <td>...</td>\n",
       "      <td>...</td>\n",
       "      <td>...</td>\n",
       "      <td>...</td>\n",
       "      <td>...</td>\n",
       "      <td>...</td>\n",
       "      <td>...</td>\n",
       "      <td>...</td>\n",
       "      <td>...</td>\n",
       "      <td>...</td>\n",
       "      <td>...</td>\n",
       "      <td>...</td>\n",
       "    </tr>\n",
       "    <tr>\n",
       "      <th>3647</th>\n",
       "      <td>15.7</td>\n",
       "      <td>21</td>\n",
       "      <td>15</td>\n",
       "      <td>9</td>\n",
       "      <td>7</td>\n",
       "      <td>5</td>\n",
       "      <td>11</td>\n",
       "      <td>19</td>\n",
       "      <td>57.9</td>\n",
       "      <td>8</td>\n",
       "      <td>...</td>\n",
       "      <td>85</td>\n",
       "      <td>0</td>\n",
       "      <td>0</td>\n",
       "      <td>72</td>\n",
       "      <td>8</td>\n",
       "      <td>17</td>\n",
       "      <td>32.0</td>\n",
       "      <td>6.36</td>\n",
       "      <td>1</td>\n",
       "      <td>0</td>\n",
       "    </tr>\n",
       "    <tr>\n",
       "      <th>3648</th>\n",
       "      <td>23.1</td>\n",
       "      <td>11</td>\n",
       "      <td>6</td>\n",
       "      <td>8</td>\n",
       "      <td>3</td>\n",
       "      <td>0</td>\n",
       "      <td>4</td>\n",
       "      <td>7</td>\n",
       "      <td>57.1</td>\n",
       "      <td>3</td>\n",
       "      <td>...</td>\n",
       "      <td>1</td>\n",
       "      <td>0</td>\n",
       "      <td>1</td>\n",
       "      <td>92</td>\n",
       "      <td>50</td>\n",
       "      <td>31</td>\n",
       "      <td>61.7</td>\n",
       "      <td>6.74</td>\n",
       "      <td>0</td>\n",
       "      <td>0</td>\n",
       "    </tr>\n",
       "    <tr>\n",
       "      <th>3649</th>\n",
       "      <td>18.3</td>\n",
       "      <td>20</td>\n",
       "      <td>10</td>\n",
       "      <td>12</td>\n",
       "      <td>8</td>\n",
       "      <td>0</td>\n",
       "      <td>12</td>\n",
       "      <td>18</td>\n",
       "      <td>66.7</td>\n",
       "      <td>6</td>\n",
       "      <td>...</td>\n",
       "      <td>4</td>\n",
       "      <td>1</td>\n",
       "      <td>0</td>\n",
       "      <td>90</td>\n",
       "      <td>41</td>\n",
       "      <td>34</td>\n",
       "      <td>54.7</td>\n",
       "      <td>6.41</td>\n",
       "      <td>0</td>\n",
       "      <td>0</td>\n",
       "    </tr>\n",
       "    <tr>\n",
       "      <th>3650</th>\n",
       "      <td>28.8</td>\n",
       "      <td>52</td>\n",
       "      <td>25</td>\n",
       "      <td>19</td>\n",
       "      <td>30</td>\n",
       "      <td>3</td>\n",
       "      <td>22</td>\n",
       "      <td>44</td>\n",
       "      <td>50.0</td>\n",
       "      <td>22</td>\n",
       "      <td>...</td>\n",
       "      <td>2</td>\n",
       "      <td>0</td>\n",
       "      <td>0</td>\n",
       "      <td>139</td>\n",
       "      <td>63</td>\n",
       "      <td>24</td>\n",
       "      <td>72.4</td>\n",
       "      <td>6.76</td>\n",
       "      <td>0</td>\n",
       "      <td>1</td>\n",
       "    </tr>\n",
       "    <tr>\n",
       "      <th>3651</th>\n",
       "      <td>25.6</td>\n",
       "      <td>58</td>\n",
       "      <td>33</td>\n",
       "      <td>24</td>\n",
       "      <td>21</td>\n",
       "      <td>13</td>\n",
       "      <td>29</td>\n",
       "      <td>68</td>\n",
       "      <td>42.6</td>\n",
       "      <td>39</td>\n",
       "      <td>...</td>\n",
       "      <td>23</td>\n",
       "      <td>1</td>\n",
       "      <td>0</td>\n",
       "      <td>162</td>\n",
       "      <td>24</td>\n",
       "      <td>32</td>\n",
       "      <td>42.9</td>\n",
       "      <td>6.80</td>\n",
       "      <td>0</td>\n",
       "      <td>1</td>\n",
       "    </tr>\n",
       "  </tbody>\n",
       "</table>\n",
       "<p>3521 rows × 32 columns</p>\n",
       "</div>"
      ],
      "text/plain": [
       "       90s  Tkl  TklW  Def 3rd  Mid 3rd  Att 3rd  Chl-Tkl  Att  Tkl%  \\\n",
       "0     13.7   29    19       20        7        2       20   34  58.8   \n",
       "1     30.9   64    35       36       23        5       26   45  57.8   \n",
       "2     16.9   21    14        8       10        3        8   18  44.4   \n",
       "3     31.8   85    52       43       34        8       38   96  39.6   \n",
       "4     15.6   25    19       15        9        1       17   34  50.0   \n",
       "...    ...  ...   ...      ...      ...      ...      ...  ...   ...   \n",
       "3647  15.7   21    15        9        7        5       11   19  57.9   \n",
       "3648  23.1   11     6        8        3        0        4    7  57.1   \n",
       "3649  18.3   20    10       12        8        0       12   18  66.7   \n",
       "3650  28.8   52    25       19       30        3       22   44  50.0   \n",
       "3651  25.6   58    33       24       21       13       29   68  42.6   \n",
       "\n",
       "      Chl-Lost  ...  Crs  PKcon  OG  Recov  Won  Lost  Won%  Rating  \\\n",
       "0           14  ...   13      1   0     75    5    11  31.3    6.25   \n",
       "1           19  ...    3      0   1    149   61    37  62.2    6.77   \n",
       "2           10  ...    3      3   0     89    2     7  22.2    6.22   \n",
       "3           58  ...   34      0   0    226   15    14  51.7    6.91   \n",
       "4           17  ...   26      1   0     79   14    10  58.3    6.41   \n",
       "...        ...  ...  ...    ...  ..    ...  ...   ...   ...     ...   \n",
       "3647         8  ...   85      0   0     72    8    17  32.0    6.36   \n",
       "3648         3  ...    1      0   1     92   50    31  61.7    6.74   \n",
       "3649         6  ...    4      1   0     90   41    34  54.7    6.41   \n",
       "3650        22  ...    2      0   0    139   63    24  72.4    6.76   \n",
       "3651        39  ...   23      1   0    162   24    32  42.9    6.80   \n",
       "\n",
       "      Pos_DF,MF  Pos_MF  \n",
       "0             0       0  \n",
       "1             0       0  \n",
       "2             0       1  \n",
       "3             0       1  \n",
       "4             0       0  \n",
       "...         ...     ...  \n",
       "3647          1       0  \n",
       "3648          0       0  \n",
       "3649          0       0  \n",
       "3650          0       1  \n",
       "3651          0       1  \n",
       "\n",
       "[3521 rows x 32 columns]"
      ]
     },
     "execution_count": 14,
     "metadata": {},
     "output_type": "execute_result"
    }
   ],
   "source": [
    "df_encoded"
   ]
  },
  {
   "cell_type": "code",
   "execution_count": 15,
   "metadata": {
    "ExecuteTime": {
     "end_time": "2025-03-06T19:19:28.290665Z",
     "start_time": "2025-03-06T19:19:26.010416Z"
    }
   },
   "outputs": [],
   "source": [
    "from sklearn.model_selection import train_test_split\n",
    "\n",
    "X = df_encoded.drop(columns=['Rating'])\n",
    "y = df_encoded['Rating']"
   ]
  },
  {
   "cell_type": "code",
   "execution_count": 16,
   "metadata": {
    "ExecuteTime": {
     "end_time": "2025-03-06T19:19:28.386153Z",
     "start_time": "2025-03-06T19:19:28.362515Z"
    }
   },
   "outputs": [
    {
     "name": "stdout",
     "output_type": "stream",
     "text": [
      "Training set samples: 2464\n",
      "Validation set samples: 528\n",
      "Test set samples: 529\n"
     ]
    }
   ],
   "source": [
    "# Split into 70/15/15 for train/test/val\n",
    "X_train, X_temp, y_train, y_temp = train_test_split(X, y, test_size=0.3, random_state=42)\n",
    "\n",
    "# Next, split that 30% equally into 15% val and 15% test\n",
    "X_val, X_test, y_val, y_test = train_test_split(X_temp, y_temp, test_size=0.5, random_state=42)\n",
    "\n",
    "print(f\"Training set samples: {X_train.shape[0]}\")\n",
    "print(f\"Validation set samples: {X_val.shape[0]}\")\n",
    "print(f\"Test set samples: {X_test.shape[0]}\")"
   ]
  },
  {
   "cell_type": "code",
   "execution_count": 17,
   "metadata": {
    "ExecuteTime": {
     "end_time": "2025-03-06T19:19:28.799502Z",
     "start_time": "2025-03-06T19:19:28.507082Z"
    }
   },
   "outputs": [
    {
     "name": "stdout",
     "output_type": "stream",
     "text": [
      "Linear Regression MSE: 0.03013, R^2: 0.52654\n"
     ]
    }
   ],
   "source": [
    "from sklearn.linear_model import LinearRegression\n",
    "from sklearn.metrics import mean_squared_error, r2_score\n",
    "\n",
    "first_model = LinearRegression()\n",
    "first_model.fit(X_train, y_train)\n",
    "\n",
    "y_pred = first_model.predict(X_test)\n",
    "\n",
    "mse = mean_squared_error(y_test, y_pred)\n",
    "r2 = r2_score(y_test, y_pred)\n",
    "print(f\"Linear Regression MSE: {mse:.5f}, R^2: {r2:.5f}\")"
   ]
  },
  {
   "cell_type": "code",
   "execution_count": 18,
   "metadata": {
    "ExecuteTime": {
     "end_time": "2025-03-06T19:19:29.008692Z",
     "start_time": "2025-03-06T19:19:28.980440Z"
    }
   },
   "outputs": [
    {
     "name": "stdout",
     "output_type": "stream",
     "text": [
      "Ridge Regression MSE: 0.03013, R^2: 0.52652\n"
     ]
    }
   ],
   "source": [
    "from sklearn.linear_model import Ridge\n",
    "\n",
    "ridge = Ridge(alpha=1.0)\n",
    "\n",
    "ridge.fit(X_train, y_train)\n",
    "\n",
    "y_pred_ridge = ridge.predict(X_test)\n",
    "\n",
    "mse_ridge = mean_squared_error(y_test, y_pred_ridge)\n",
    "r2_ridge = r2_score(y_test, y_pred_ridge)\n",
    "print(f\"Ridge Regression MSE: {mse_ridge:.5f}, R^2: {r2_ridge:.5f}\")"
   ]
  },
  {
   "cell_type": "code",
   "execution_count": 19,
   "metadata": {
    "ExecuteTime": {
     "end_time": "2025-03-06T19:19:29.171835Z",
     "start_time": "2025-03-06T19:19:29.147396Z"
    }
   },
   "outputs": [
    {
     "ename": "NameError",
     "evalue": "name 'GridSearchCV' is not defined",
     "output_type": "error",
     "traceback": [
      "\u001b[0;31m---------------------------------------------------------------------------\u001b[0m",
      "\u001b[0;31mNameError\u001b[0m                                 Traceback (most recent call last)",
      "Cell \u001b[0;32mIn[19], line 5\u001b[0m\n\u001b[1;32m      1\u001b[0m ridge_param_grid \u001b[38;5;241m=\u001b[39m {\n\u001b[1;32m      2\u001b[0m     \u001b[38;5;124m\"\u001b[39m\u001b[38;5;124malpha\u001b[39m\u001b[38;5;124m\"\u001b[39m: [\u001b[38;5;241m0.001\u001b[39m, \u001b[38;5;241m0.01\u001b[39m, \u001b[38;5;241m0.1\u001b[39m, \u001b[38;5;241m1.0\u001b[39m, \u001b[38;5;241m10\u001b[39m, \u001b[38;5;241m100\u001b[39m]\n\u001b[1;32m      3\u001b[0m }\n\u001b[0;32m----> 5\u001b[0m ridge_grid \u001b[38;5;241m=\u001b[39m GridSearchCV(Ridge(), ridge_param_grid, cv\u001b[38;5;241m=\u001b[39m\u001b[38;5;241m5\u001b[39m, scoring\u001b[38;5;241m=\u001b[39m\u001b[38;5;124m'\u001b[39m\u001b[38;5;124mr2\u001b[39m\u001b[38;5;124m'\u001b[39m, n_jobs\u001b[38;5;241m=\u001b[39m\u001b[38;5;241m1\u001b[39m)\n\u001b[1;32m      6\u001b[0m ridge_grid\u001b[38;5;241m.\u001b[39mfit(X_train, y_train)\n\u001b[1;32m      8\u001b[0m lasso\u001b[38;5;241m.\u001b[39mfit(X_train, y_train)\n",
      "\u001b[0;31mNameError\u001b[0m: name 'GridSearchCV' is not defined"
     ]
    }
   ],
   "source": [
    "ridge_param_grid = {\n",
    "    \"alpha\": [0.001, 0.01, 0.1, 1.0, 10, 100]\n",
    "}\n",
    "\n",
    "ridge_grid = GridSearchCV(Ridge(), ridge_param_grid, cv=5, scoring='r2', n_jobs=1)\n",
    "ridge_grid.fit(X_train, y_train)\n",
    "\n",
    "lasso.fit(X_train, y_train)\n",
    "\n",
    "y_pred_lasso = lasso.predict(X_test)\n",
    "\n",
    "mse_lasso = mean_squared_error(y_test, y_pred_lasso)\n",
    "r2_lasso = r2_score(y_test, y_pred_lasso)\n",
    "print(f\"Lasso Regression MSE: {mse_lasso:.5f}, R^2: {r2_lasso:.5f}\")"
   ]
  },
  {
   "cell_type": "code",
   "execution_count": null,
   "metadata": {
    "ExecuteTime": {
     "end_time": "2025-03-06T19:19:29.734445Z",
     "start_time": "2025-03-06T19:19:29.458939Z"
    }
   },
   "outputs": [
    {
     "name": "stdout",
     "output_type": "stream",
     "text": [
      "Decision Tree Regression MSE: 0.07543, R^2: -0.18539\n"
     ]
    }
   ],
   "source": [
    "from sklearn.tree import DecisionTreeRegressor\n",
    "\n",
    "tree_model = DecisionTreeRegressor(random_state=42)\n",
    "\n",
    "tree_model.fit(X_train, y_train)\n",
    "\n",
    "y_pred_tree = tree_model.predict(X_test)\n",
    "\n",
    "mse_tree = mean_squared_error(y_test, y_pred_tree)\n",
    "r2_tree = r2_score(y_test, y_pred_tree)\n",
    "print(f\"Decision Tree Regression MSE: {mse_tree:.5f}, R^2: {r2_tree:.5f}\")"
   ]
  },
  {
   "cell_type": "code",
   "execution_count": null,
   "metadata": {
    "ExecuteTime": {
     "end_time": "2025-03-06T19:24:00.519722Z",
     "start_time": "2025-03-06T19:19:57.394153Z"
    }
   },
   "outputs": [
    {
     "name": "stdout",
     "output_type": "stream",
     "text": [
      "Fitting 5 folds for each of 50 candidates, totalling 250 fits\n",
      "Best parameters found: {'n_estimators': 400, 'min_samples_split': 10, 'min_samples_leaf': 2, 'max_features': None, 'max_depth': None, 'bootstrap': True}\n",
      "Random Forest MSE: 0.03177, R^2: 0.50069\n"
     ]
    }
   ],
   "source": [
    "from sklearn.ensemble import RandomForestRegressor\n",
    "from sklearn.model_selection import RandomizedSearchCV\n",
    "from sklearn.metrics import mean_squared_error, r2_score\n",
    "import numpy as np\n",
    "\n",
    "# Define the parameter distributions to explore.\n",
    "param_distributions = {\n",
    "    'n_estimators': [100, 200, 300, 400],\n",
    "    'max_depth': [None, 10, 20, 30],\n",
    "    'max_features': [None, 'sqrt', 'log2'],  # New parameter to tune\n",
    "    'min_samples_split': [2, 5, 10],\n",
    "    'min_samples_leaf': [1, 2, 4],\n",
    "    'bootstrap': [True, False]\n",
    "}\n",
    "\n",
    "# Initialize the Random Forest regressor.\n",
    "rf = RandomForestRegressor(random_state=42)\n",
    "\n",
    "# Set up RandomizedSearchCV with a fixed number of iterations (e.g., 50).\n",
    "random_search = RandomizedSearchCV(\n",
    "    estimator=rf,\n",
    "    param_distributions=param_distributions,\n",
    "    n_iter=50,              # Number of parameter settings that are sampled.\n",
    "    cv=5,                   # 5-fold cross-validation.\n",
    "    n_jobs=-1,              # Use all available cores.\n",
    "    verbose=2,\n",
    "    scoring='neg_mean_squared_error',\n",
    "    random_state=42\n",
    ")\n",
    "\n",
    "# Fit the randomized search on the training data.\n",
    "random_search.fit(X_train, y_train)\n",
    "\n",
    "# Print the best parameters found.\n",
    "print(\"Best parameters found:\", random_search.best_params_)\n",
    "\n",
    "# Retrieve the best estimator.\n",
    "best_rf = random_search.best_estimator_\n",
    "\n",
    "# Predict on the test set using the best model.\n",
    "y_pred_rf = best_rf.predict(X_test)\n",
    "\n",
    "# Evaluate the performance.\n",
    "mse_rf = mean_squared_error(y_test, y_pred_rf)\n",
    "r2_rf = r2_score(y_test, y_pred_rf)\n",
    "print(f\"Random Forest MSE: {mse_rf:.5f}, R^2: {r2_rf:.5f}\")\n",
    "\n"
   ]
  },
  {
   "cell_type": "code",
   "execution_count": null,
   "metadata": {
    "ExecuteTime": {
     "end_time": "2025-03-06T20:32:27.550837Z",
     "start_time": "2025-03-06T20:32:27.421064Z"
    }
   },
   "outputs": [
    {
     "name": "stdout",
     "output_type": "stream",
     "text": [
      "Exported predicted vs actual ratings to 'predicted_vs_actual.csv'\n"
     ]
    }
   ],
   "source": [
    "import pandas as pd\n",
    "\n",
    "# Create a dictionary with the actual and predicted ratings.\n",
    "results_dict = {\n",
    "    'Actual Rating': y_test,\n",
    "    'Predicted Rating': y_pred_rf\n",
    "}\n",
    "\n",
    "# Include Player_ID if available.\n",
    "if 'Player_ID' in X_test.columns:\n",
    "    results_dict['Player_ID'] = X_test['Player_ID']\n",
    "\n",
    "# Optionally, include the player name if available.\n",
    "if 'Player' in X_test.columns:\n",
    "    results_dict['Player'] = X_test['Player']\n",
    "\n",
    "# Create the DataFrame from the dictionary.\n",
    "results_df = pd.DataFrame(results_dict)\n",
    "\n",
    "# Reorder columns if necessary: put Player_ID and Player first if they exist.\n",
    "ordered_columns = []\n",
    "if 'Player_ID' in results_df.columns:\n",
    "    ordered_columns.append('Player_ID')\n",
    "if 'Player' in results_df.columns:\n",
    "    ordered_columns.append('Player')\n",
    "ordered_columns.extend(['Actual Rating', 'Predicted Rating'])\n",
    "results_df = results_df[ordered_columns]\n",
    "\n",
    "# Insert an Index column at the beginning.\n",
    "results_df.insert(0, \"Index\", range(1, len(results_df) + 1))\n",
    "\n",
    "# Export the DataFrame to a CSV file.\n",
    "results_df.to_csv('predicted_vs_actual.csv', index=False)\n",
    "print(\"Exported predicted vs actual ratings to 'predicted_vs_actual.csv'\")\n"
   ]
  },
  {
   "cell_type": "code",
   "execution_count": null,
   "metadata": {
    "ExecuteTime": {
     "end_time": "2025-03-06T19:19:42.673624Z",
     "start_time": "2025-03-06T06:54:18.150328Z"
    }
   },
   "outputs": [
    {
     "name": "stdout",
     "output_type": "stream",
     "text": [
      "Gradient Boosting MSE: 0.03072, R^2: 0.51719\n"
     ]
    }
   ],
   "source": [
    "from sklearn.ensemble import GradientBoostingRegressor\n",
    "\n",
    "gb_model = GradientBoostingRegressor(n_estimators=100, random_state=42)\n",
    "\n",
    "gb_model.fit(X_train, y_train)\n",
    "\n",
    "y_pred_gb = gb_model.predict(X_test)\n",
    "\n",
    "mse_gb = mean_squared_error(y_test, y_pred_gb)\n",
    "r2_gb = r2_score(y_test, y_pred_gb)\n",
    "print(f\"Gradient Boosting MSE: {mse_gb:.5f}, R^2: {r2_gb:.5f}\")"
   ]
  },
  {
   "cell_type": "code",
   "execution_count": null,
   "metadata": {
    "ExecuteTime": {
     "end_time": "2025-03-06T19:19:42.691739Z",
     "start_time": "2025-03-06T06:54:28.932336Z"
    }
   },
   "outputs": [
    {
     "ename": "ModuleNotFoundError",
     "evalue": "No module named 'matplotlib'",
     "output_type": "error",
     "traceback": [
      "\u001b[31m---------------------------------------------------------------------------\u001b[39m",
      "\u001b[31mModuleNotFoundError\u001b[39m                       Traceback (most recent call last)",
      "\u001b[36mCell\u001b[39m\u001b[36m \u001b[39m\u001b[32mIn[33]\u001b[39m\u001b[32m, line 1\u001b[39m\n\u001b[32m----> \u001b[39m\u001b[32m1\u001b[39m \u001b[38;5;28;01mimport\u001b[39;00m\u001b[38;5;250m \u001b[39m\u001b[34;01mmatplotlib\u001b[39;00m\u001b[34;01m.\u001b[39;00m\u001b[34;01mpyplot\u001b[39;00m\u001b[38;5;250m \u001b[39m\u001b[38;5;28;01mas\u001b[39;00m\u001b[38;5;250m \u001b[39m\u001b[34;01mplt\u001b[39;00m\n\u001b[32m      3\u001b[39m \u001b[38;5;28;01mdef\u001b[39;00m\u001b[38;5;250m \u001b[39m\u001b[34mplot_actual_vs_predicted\u001b[39m(y_test, y_pred, model_name):\n\u001b[32m      4\u001b[39m     plt.figure(figsize=(\u001b[32m8\u001b[39m, \u001b[32m6\u001b[39m))\n",
      "\u001b[31mModuleNotFoundError\u001b[39m: No module named 'matplotlib'"
     ]
    }
   ],
   "source": [
    "import matplotlib.pyplot as plt\n",
    "\n",
    "def plot_actual_vs_predicted(y_test, y_pred, model_name):\n",
    "    plt.figure(figsize=(8, 6))\n",
    "    plt.scatter(y_test, y_pred, color='blue', alpha=0.6, label=f'{model_name} Predictions')\n",
    "    plt.plot([y_test.min(), y_test.max()], [y_test.min(), y_test.max()], color='red', linestyle='--', label=\"Perfect Prediction\")\n",
    "    plt.xlabel('Actual Values')\n",
    "    plt.ylabel('Predicted Values')\n",
    "    plt.title(f'{model_name}: Actual vs Predicted')\n",
    "    plt.legend()\n",
    "    plt.show()\n",
    "\n",
    "plot_actual_vs_predicted(y_test, y_pred, \"Linear Regression\")\n",
    "plot_actual_vs_predicted(y_test, y_pred_ridge, \"Ridge Regression\")\n",
    "plot_actual_vs_predicted(y_test, y_pred_lasso, \"Lasso Regression\")\n",
    "plot_actual_vs_predicted(y_test, y_pred_tree, \"Decision Tree\")\n",
    "plot_actual_vs_predicted(y_test, y_pred_rf, \"Random Forest\")\n",
    "plot_actual_vs_predicted(y_test, y_pred_gb, \"Gradient Boosting\")"
   ]
  },
  {
   "cell_type": "code",
   "execution_count": null,
   "metadata": {},
   "outputs": [],
   "source": [
    "# # Create a comparison bar plot for MSE values of each model\n",
    "# models = ['Linear', 'Ridge', 'Decision Tree']\n",
    "#         #    'Lasso', 'Decision Tree', 'Random Forest', 'Gradient Boosting']\n",
    "# mse_values = [mse, mse_ridge, mse_tree]\n",
    "#             #   mse_lasso, mse_tree, mse_rf, mse_gb]\n",
    "\n",
    "# plt.figure(figsize=(10, 6))\n",
    "# plt.bar(models, mse_values, color='skyblue')\n",
    "# plt.xlabel('Models')\n",
    "# plt.ylabel('MSE (Mean Squared Error)')\n",
    "# plt.title('MSE Comparison of Models')\n",
    "# plt.show()"
   ]
  },
  {
   "cell_type": "code",
   "execution_count": null,
   "metadata": {},
   "outputs": [],
   "source": [
    "# def plot_residuals(y_test, y_pred, model_name):\n",
    "#     residuals = y_test - y_pred\n",
    "#     plt.figure(figsize=(8, 6))\n",
    "#     plt.scatter(y_pred, residuals, color='blue', alpha=0.6)\n",
    "#     plt.hlines(y=0, xmin=y_pred.min(), xmax=y_pred.max(), colors='red', linestyle='--', label=\"Zero Residuals\")\n",
    "#     plt.xlabel('Predicted Values')\n",
    "#     plt.ylabel('Residuals')\n",
    "#     plt.title(f'{model_name}: Residuals Plot')\n",
    "#     plt.legend()\n",
    "#     plt.show()\n",
    "\n",
    "# # Residual plot for each model\n",
    "# plot_residuals(y_test, y_pred, \"Linear Regression\")\n",
    "# plot_residuals(y_test, y_pred_ridge, \"Ridge Regression\")\n",
    "# # plot_residuals(y_test, y_pred_lasso, \"Lasso Regression\")\n",
    "# plot_residuals(y_test, y_pred_tree, \"Decision Tree\")\n",
    "# # plot_residuals(y_test, y_pred_rf, \"Random Forest\")\n",
    "# # plot_residuals(y_test, y_pred_gb, \"Gradient Boosting\")"
   ]
  },
  {
   "cell_type": "code",
   "execution_count": null,
   "metadata": {},
   "outputs": [],
   "source": [
    "ridge_export = pd.concat([y_test_series, y_test_pred_series], axis=1)\n"
   ]
  },
  {
   "cell_type": "code",
   "execution_count": null,
   "metadata": {},
   "outputs": [],
   "source": [
    "ridge_export.columns = ['Actual Rating', 'Predicted Rating']"
   ]
  },
  {
   "cell_type": "code",
   "execution_count": null,
   "metadata": {},
   "outputs": [
    {
     "data": {
      "text/html": [
       "<div>\n",
       "<style scoped>\n",
       "    .dataframe tbody tr th:only-of-type {\n",
       "        vertical-align: middle;\n",
       "    }\n",
       "\n",
       "    .dataframe tbody tr th {\n",
       "        vertical-align: top;\n",
       "    }\n",
       "\n",
       "    .dataframe thead th {\n",
       "        text-align: right;\n",
       "    }\n",
       "</style>\n",
       "<table border=\"1\" class=\"dataframe\">\n",
       "  <thead>\n",
       "    <tr style=\"text-align: right;\">\n",
       "      <th></th>\n",
       "      <th>Actual Rating</th>\n",
       "      <th>Predicted Rating</th>\n",
       "    </tr>\n",
       "  </thead>\n",
       "  <tbody>\n",
       "    <tr>\n",
       "      <th>0</th>\n",
       "      <td>6.74</td>\n",
       "      <td>6.748369</td>\n",
       "    </tr>\n",
       "    <tr>\n",
       "      <th>1</th>\n",
       "      <td>6.65</td>\n",
       "      <td>6.656592</td>\n",
       "    </tr>\n",
       "    <tr>\n",
       "      <th>2</th>\n",
       "      <td>6.68</td>\n",
       "      <td>6.698447</td>\n",
       "    </tr>\n",
       "    <tr>\n",
       "      <th>3</th>\n",
       "      <td>6.51</td>\n",
       "      <td>6.498548</td>\n",
       "    </tr>\n",
       "    <tr>\n",
       "      <th>4</th>\n",
       "      <td>6.61</td>\n",
       "      <td>6.643987</td>\n",
       "    </tr>\n",
       "    <tr>\n",
       "      <th>...</th>\n",
       "      <td>...</td>\n",
       "      <td>...</td>\n",
       "    </tr>\n",
       "    <tr>\n",
       "      <th>524</th>\n",
       "      <td>6.58</td>\n",
       "      <td>6.648340</td>\n",
       "    </tr>\n",
       "    <tr>\n",
       "      <th>525</th>\n",
       "      <td>6.29</td>\n",
       "      <td>6.604636</td>\n",
       "    </tr>\n",
       "    <tr>\n",
       "      <th>526</th>\n",
       "      <td>7.05</td>\n",
       "      <td>6.914139</td>\n",
       "    </tr>\n",
       "    <tr>\n",
       "      <th>527</th>\n",
       "      <td>6.42</td>\n",
       "      <td>6.451077</td>\n",
       "    </tr>\n",
       "    <tr>\n",
       "      <th>528</th>\n",
       "      <td>6.79</td>\n",
       "      <td>6.796107</td>\n",
       "    </tr>\n",
       "  </tbody>\n",
       "</table>\n",
       "<p>529 rows × 2 columns</p>\n",
       "</div>"
      ],
      "text/plain": [
       "     Actual Rating  Predicted Rating\n",
       "0             6.74          6.748369\n",
       "1             6.65          6.656592\n",
       "2             6.68          6.698447\n",
       "3             6.51          6.498548\n",
       "4             6.61          6.643987\n",
       "..             ...               ...\n",
       "524           6.58          6.648340\n",
       "525           6.29          6.604636\n",
       "526           7.05          6.914139\n",
       "527           6.42          6.451077\n",
       "528           6.79          6.796107\n",
       "\n",
       "[529 rows x 2 columns]"
      ]
     },
     "execution_count": 43,
     "metadata": {},
     "output_type": "execute_result"
    }
   ],
   "source": [
    "ridge_export"
   ]
  },
  {
   "cell_type": "code",
   "execution_count": null,
   "metadata": {},
   "outputs": [],
   "source": [
    "y_test_pred_tree_series = pd.Series(y_test_pred_tree)"
   ]
  },
  {
   "cell_type": "code",
   "execution_count": null,
   "metadata": {},
   "outputs": [],
   "source": [
    "tree_export = pd.concat([y_test_series, y_test_pred_tree_series], axis=1)"
   ]
  },
  {
   "cell_type": "code",
   "execution_count": null,
   "metadata": {},
   "outputs": [
    {
     "data": {
      "text/html": [
       "<div>\n",
       "<style scoped>\n",
       "    .dataframe tbody tr th:only-of-type {\n",
       "        vertical-align: middle;\n",
       "    }\n",
       "\n",
       "    .dataframe tbody tr th {\n",
       "        vertical-align: top;\n",
       "    }\n",
       "\n",
       "    .dataframe thead th {\n",
       "        text-align: right;\n",
       "    }\n",
       "</style>\n",
       "<table border=\"1\" class=\"dataframe\">\n",
       "  <thead>\n",
       "    <tr style=\"text-align: right;\">\n",
       "      <th></th>\n",
       "      <th>Rating</th>\n",
       "      <th>0</th>\n",
       "    </tr>\n",
       "  </thead>\n",
       "  <tbody>\n",
       "    <tr>\n",
       "      <th>0</th>\n",
       "      <td>6.74</td>\n",
       "      <td>6.773300</td>\n",
       "    </tr>\n",
       "    <tr>\n",
       "      <th>1</th>\n",
       "      <td>6.65</td>\n",
       "      <td>6.611806</td>\n",
       "    </tr>\n",
       "    <tr>\n",
       "      <th>2</th>\n",
       "      <td>6.68</td>\n",
       "      <td>6.611806</td>\n",
       "    </tr>\n",
       "    <tr>\n",
       "      <th>3</th>\n",
       "      <td>6.51</td>\n",
       "      <td>6.477849</td>\n",
       "    </tr>\n",
       "    <tr>\n",
       "      <th>4</th>\n",
       "      <td>6.61</td>\n",
       "      <td>6.611806</td>\n",
       "    </tr>\n",
       "    <tr>\n",
       "      <th>...</th>\n",
       "      <td>...</td>\n",
       "      <td>...</td>\n",
       "    </tr>\n",
       "    <tr>\n",
       "      <th>524</th>\n",
       "      <td>6.58</td>\n",
       "      <td>6.774759</td>\n",
       "    </tr>\n",
       "    <tr>\n",
       "      <th>525</th>\n",
       "      <td>6.29</td>\n",
       "      <td>6.477849</td>\n",
       "    </tr>\n",
       "    <tr>\n",
       "      <th>526</th>\n",
       "      <td>7.05</td>\n",
       "      <td>6.774759</td>\n",
       "    </tr>\n",
       "    <tr>\n",
       "      <th>527</th>\n",
       "      <td>6.42</td>\n",
       "      <td>6.611806</td>\n",
       "    </tr>\n",
       "    <tr>\n",
       "      <th>528</th>\n",
       "      <td>6.79</td>\n",
       "      <td>6.774759</td>\n",
       "    </tr>\n",
       "  </tbody>\n",
       "</table>\n",
       "<p>529 rows × 2 columns</p>\n",
       "</div>"
      ],
      "text/plain": [
       "     Rating         0\n",
       "0      6.74  6.773300\n",
       "1      6.65  6.611806\n",
       "2      6.68  6.611806\n",
       "3      6.51  6.477849\n",
       "4      6.61  6.611806\n",
       "..      ...       ...\n",
       "524    6.58  6.774759\n",
       "525    6.29  6.477849\n",
       "526    7.05  6.774759\n",
       "527    6.42  6.611806\n",
       "528    6.79  6.774759\n",
       "\n",
       "[529 rows x 2 columns]"
      ]
     },
     "execution_count": 46,
     "metadata": {},
     "output_type": "execute_result"
    }
   ],
   "source": [
    "tree_export"
   ]
  },
  {
   "cell_type": "code",
   "execution_count": null,
   "metadata": {},
   "outputs": [],
   "source": [
    "tree_export.columns = ['Actual Rating', 'Predicted Rating']"
   ]
  },
  {
   "cell_type": "code",
   "execution_count": null,
   "metadata": {},
   "outputs": [
    {
     "data": {
      "text/html": [
       "<div>\n",
       "<style scoped>\n",
       "    .dataframe tbody tr th:only-of-type {\n",
       "        vertical-align: middle;\n",
       "    }\n",
       "\n",
       "    .dataframe tbody tr th {\n",
       "        vertical-align: top;\n",
       "    }\n",
       "\n",
       "    .dataframe thead th {\n",
       "        text-align: right;\n",
       "    }\n",
       "</style>\n",
       "<table border=\"1\" class=\"dataframe\">\n",
       "  <thead>\n",
       "    <tr style=\"text-align: right;\">\n",
       "      <th></th>\n",
       "      <th>Actual Rating</th>\n",
       "      <th>Predicted Rating</th>\n",
       "    </tr>\n",
       "  </thead>\n",
       "  <tbody>\n",
       "    <tr>\n",
       "      <th>0</th>\n",
       "      <td>6.74</td>\n",
       "      <td>6.773300</td>\n",
       "    </tr>\n",
       "    <tr>\n",
       "      <th>1</th>\n",
       "      <td>6.65</td>\n",
       "      <td>6.611806</td>\n",
       "    </tr>\n",
       "    <tr>\n",
       "      <th>2</th>\n",
       "      <td>6.68</td>\n",
       "      <td>6.611806</td>\n",
       "    </tr>\n",
       "    <tr>\n",
       "      <th>3</th>\n",
       "      <td>6.51</td>\n",
       "      <td>6.477849</td>\n",
       "    </tr>\n",
       "    <tr>\n",
       "      <th>4</th>\n",
       "      <td>6.61</td>\n",
       "      <td>6.611806</td>\n",
       "    </tr>\n",
       "    <tr>\n",
       "      <th>...</th>\n",
       "      <td>...</td>\n",
       "      <td>...</td>\n",
       "    </tr>\n",
       "    <tr>\n",
       "      <th>524</th>\n",
       "      <td>6.58</td>\n",
       "      <td>6.774759</td>\n",
       "    </tr>\n",
       "    <tr>\n",
       "      <th>525</th>\n",
       "      <td>6.29</td>\n",
       "      <td>6.477849</td>\n",
       "    </tr>\n",
       "    <tr>\n",
       "      <th>526</th>\n",
       "      <td>7.05</td>\n",
       "      <td>6.774759</td>\n",
       "    </tr>\n",
       "    <tr>\n",
       "      <th>527</th>\n",
       "      <td>6.42</td>\n",
       "      <td>6.611806</td>\n",
       "    </tr>\n",
       "    <tr>\n",
       "      <th>528</th>\n",
       "      <td>6.79</td>\n",
       "      <td>6.774759</td>\n",
       "    </tr>\n",
       "  </tbody>\n",
       "</table>\n",
       "<p>529 rows × 2 columns</p>\n",
       "</div>"
      ],
      "text/plain": [
       "     Actual Rating  Predicted Rating\n",
       "0             6.74          6.773300\n",
       "1             6.65          6.611806\n",
       "2             6.68          6.611806\n",
       "3             6.51          6.477849\n",
       "4             6.61          6.611806\n",
       "..             ...               ...\n",
       "524           6.58          6.774759\n",
       "525           6.29          6.477849\n",
       "526           7.05          6.774759\n",
       "527           6.42          6.611806\n",
       "528           6.79          6.774759\n",
       "\n",
       "[529 rows x 2 columns]"
      ]
     },
     "execution_count": 48,
     "metadata": {},
     "output_type": "execute_result"
    }
   ],
   "source": [
    "tree_export"
   ]
  },
  {
   "cell_type": "code",
   "execution_count": null,
   "metadata": {},
   "outputs": [],
   "source": [
    "ridge_export.to_csv('predicted_vs_actual_ridge.csv', index=True)"
   ]
  },
  {
   "cell_type": "code",
   "execution_count": null,
   "metadata": {},
   "outputs": [],
   "source": [
    "tree_export.to_csv('predicted_vs_actual_tree.csv', index=True)"
   ]
  }
 ],
 "metadata": {
  "kernelspec": {
   "display_name": "base",
   "language": "python",
   "name": "python3"
  },
  "language_info": {
   "codemirror_mode": {
    "name": "ipython",
    "version": 3
   },
   "file_extension": ".py",
   "mimetype": "text/x-python",
   "name": "python",
   "nbconvert_exporter": "python",
   "pygments_lexer": "ipython3",
   "version": "3.11.8"
  }
 },
 "nbformat": 4,
 "nbformat_minor": 2
}
